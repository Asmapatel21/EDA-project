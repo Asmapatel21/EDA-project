{
  "nbformat": 4,
  "nbformat_minor": 0,
  "metadata": {
    "colab": {
      "provenance": [],
      "include_colab_link": true
    },
    "kernelspec": {
      "name": "python3",
      "display_name": "Python 3"
    },
    "language_info": {
      "name": "python"
    },
    "gpuClass": "standard"
  },
  "cells": [
    {
      "cell_type": "markdown",
      "metadata": {
        "id": "view-in-github",
        "colab_type": "text"
      },
      "source": [
        "<a href=\"https://colab.research.google.com/github/Asmapatel21/EDA-project/blob/main/CAPSTON_PROJECT_1_TEAM_FINAL_EDA_hotel_booking_analysis_.ipynb\" target=\"_parent\"><img src=\"https://colab.research.google.com/assets/colab-badge.svg\" alt=\"Open In Colab\"/></a>"
      ]
    },
    {
      "cell_type": "markdown",
      "source": [
        "# **Project Name** - Hotel Booking Analysis\n"
      ],
      "metadata": {
        "id": "vncDsAP0Gaoa"
      }
    },
    {
      "cell_type": "markdown",
      "source": [
        "##### **Project Type**    - EDA\n",
        "##### **Contribution**    -Team\n",
        "##### **Team Member 1 -*Tabassum Patel (Team Leader)*\n",
        "##### **Team Member 2 -*Shubham Kodape*\n",
        "##### **Team Member 3 -*Asma Patel*\n",
        "##### **Team Member 4 -*anuja Ghotekar*\n",
        "##### **Team Member 5 -*Pratiksha Auti*  "
      ],
      "metadata": {
        "id": "beRrZCGUAJYm"
      }
    },
    {
      "cell_type": "markdown",
      "source": [
        "# **Project Summary -**"
      ],
      "metadata": {
        "id": "FJNUwmbgGyua"
      }
    },
    {
      "cell_type": "markdown",
      "source": [
        "We first decided to take up this project solely due to our diffrent point of views about hotel bookings and try to solve the problems and erros during making of individual colab.But when we downloaded the project we was shocked to see so many complex data in csv file.we had no idea what to do with them, how do we start to make our projetc with them,from where to start.Then we decided to divide the csv file with each team members(5 members) and first we all are worked individually and takes all the datas which is present in csv file by link and address of the csv file to the our individual project google colab notebook and doing some eda and other stuff we have done step by step and which we explain in below as follows.\n",
        "\n",
        "1.first I took hotal bookings.csv file and link to our individual colab notebook to grab all the data of csv.\n",
        "\n",
        "2.creating data(data frame) using csv file.csv-comma seperated values.\n",
        "\n",
        "3.then we apply numpy arrays whose have an attribute called .shape that returns a tuple with each index having the number of corresponding elements.\n",
        "\n",
        "4.apply head() function in python which displays the first five rows of the dataframe by default,with transpose() were it is moving the rows data to column and column to rows 'T' is for rows to columns and columns to rows.\n",
        "\n",
        "5.use tail() function for displaying last five rows and columns of the dataframe by default.\n",
        "\n",
        "6.apply The info() method that gives prints information about the DataFrame.\n",
        "\n",
        "7.apply The describe() method that returns description of the data in the DataFrame.\n",
        "\n",
        "8.apply The columns property that returns the label of each column in the DataFrame.\n",
        "\n",
        "after all this functions we were discuss about the type of questions that comes in our mind when we book room in hotel and other stuff. we are found some intresting questions which are almost 20 questions and then filter out them and we got 10 best questions but we all are littel bit confused that to whom to give the questions.finally we decide and share all the questions to each team member.\n",
        "\n",
        "the questions are divided in each team member as follows.\n",
        "\n",
        "team members:\n",
        "\n",
        "1.Tabassum muneer patel (team leader):\n",
        "\n",
        "a>.How long do people stay at the hotels?\n",
        "\n",
        "b>.What is the percentage of bookings in each hotel?\n",
        "\n",
        "2.Shubham kodape:\n",
        "\n",
        "a>.Which agent makes most no. of bookings?\n",
        "\n",
        "b>.Which meal type is most preffered meal of customers?\n",
        "\n",
        "c>.Which is the most common channel for booking hotels?\n",
        "\n",
        "3>.Anuja ghotekar:\n",
        "\n",
        "a>.Which room type is in most demand and which room type generates highest adr?\n",
        "\n",
        "b>.From where most guests are coming?\n",
        "\n",
        "c>.Which hotel has higher lead time?\n",
        "\n",
        "d>.which hotel seems to make more revenue?\n",
        "\n",
        "e>.Which significant distribution channel has highest cancellation percentage?\n",
        "\n",
        "4>.Pratiksha auti jadhav:\n",
        "\n",
        "a>.which channel is mostly used for early booking of hotels?\n",
        "\n",
        "b>.which channel has longer average waiting time?\n",
        "\n",
        "5>.Asma Patel:\n",
        "\n",
        "a>.Which hotel has longer waiting time?\n",
        "\n",
        "b>.Which hotel has higher bookings cancellation rate?\n",
        "\n",
        "After doing some random EDAs.we gained some confidence.\n",
        "\n",
        "Then we decided to do some team wise analysis.For which each member took help of a bar chart and some lineplots.we made a DataFrame of which agent makes most number of bookings and dataframe of Which meal type is most preffered meal of customers?. make a Pie Chart for better visualisation.\n",
        "\n",
        "We also realise that the high rate of cancellations can be due high no deposit policies.\n",
        "\n",
        "Majority of the hotels booked are city hotel. Definitely need to spend the most targeting fund on those hotel.\n",
        "\n",
        "this is the best EDA that we did in teamwork and memorable experience for us in this project."
      ],
      "metadata": {
        "id": "F6v_1wHtG2nS"
      }
    },
    {
      "cell_type": "markdown",
      "source": [
        "# **GitHub Link -**"
      ],
      "metadata": {
        "id": "w6K7xa23Elo4"
      }
    },
    {
      "cell_type": "markdown",
      "source": [
        "# **Problem Statement**\n"
      ],
      "metadata": {
        "id": "yQaldy8SH6Dl"
      }
    },
    {
      "cell_type": "markdown",
      "source": [
        "Have you ever wondered when the best time of year to book a hotel room is? Or the optimal length of stay in order to get the best daily rate? What if you wanted to predict whether or not a hotel was likely to receive a disproportionately high number of special requests? This hotel booking dataset can help you explore those questions!\n",
        "This data set contains booking information for a city hotel and a resort hotel, and includes information such as when the booking was made, length of stay, the number of adults, children, and/or babies, and the number of available parking spaces, among other things. All personally identifying information has been removed from the data.\n",
        "Explore and analyze the data to discover important factors that govern the bookings."
      ],
      "metadata": {
        "id": "DpeJGUA3kjGy"
      }
    },
    {
      "cell_type": "markdown",
      "source": [
        "#### **Define Your Business Objective?**"
      ],
      "metadata": {
        "id": "PH-0ReGfmX4f"
      }
    },
    {
      "cell_type": "markdown",
      "source": [
        "1.Our main objective is perform EDA on the given dataset and draw useful conclusions about general trends in hotel bookings and how factors governing hotel bookings interact with each other.\n",
        "\n",
        "2.to understand and visualize dataset from hotel and customer point of view i.e. and give suggestions to reduce these cancellations and increase revenue of hotels.\n",
        "\n",
        "3.This makes analyzing the patterns available in the past data more important to help the hotels plan better.\n",
        "\n",
        "4.A hotel reservation system enables guests to schedule dates and length of stay, room selection, extras, and payment all in one place.\n",
        "\n",
        "5.to provide the best service and a excillent experience to customers from start to finish.\n",
        "\n",
        "6.An online booking system gives you the freedom of taking bookings 24/7.\n",
        "\n",
        "7.The five key business performance objectives for any organization include quality, speed, dependability, flexibility, and cost.\n",
        "\n",
        "8.This data set contains booking information for a city hotel and a resort hotel and includes information such as when the booking was made, length of stay, the number of adults, children, and/or babies, and the number of available parking spaces, among other things. All personally identifying information has from the data.\n",
        "\n",
        "9.To predict which kind of customers need special request and predicting the possibility of a booking for a hotel by knowing different features. This will help the hotel booking company to make better decisions.\n",
        "\n",
        "10.To present the hotel as an excellent, or the best, choice to its target market.\n",
        "\n",
        "11.To make it easy for customers to make reservations.\n",
        "\n",
        "12.To make it easy for customers to get their questions answered, lowering barriers to selecting this chain's hotels.\n",
        "\n",
        "13.To fill as many rooms as possible at a relatively high rate.\n",
        "\n",
        "14.Ease of information gathering in support of selecting a hotel.\n",
        "\n",
        "15.Accurate, reliable reservations.\n",
        "\n",
        "16.Efficiency of booking, especially for repeat customers."
      ],
      "metadata": {
        "id": "PhDvGCAqmjP1"
      }
    },
    {
      "cell_type": "markdown",
      "source": [
        "## ***1. About Data***"
      ],
      "metadata": {
        "id": "HhfV-JJviCcP"
      }
    },
    {
      "cell_type": "markdown",
      "source": [
        "### Import Libraries"
      ],
      "metadata": {
        "id": "Y3lxredqlCYt"
      }
    },
    {
      "cell_type": "code",
      "source": [
        "# Import Libraries\n",
        "import numpy as np\n",
        "import pandas as pd\n",
        "import matplotlib\n",
        "import matplotlib.pyplot as plt\n",
        "import seaborn as sns\n"
      ],
      "metadata": {
        "id": "M8Vqi-pPk-HR"
      },
      "execution_count": 1,
      "outputs": []
    },
    {
      "cell_type": "markdown",
      "source": [
        "import numpy as np\n",
        "import pandas as pd\n",
        "import matplotlib\n",
        "import matplotlib.pyplot as plt\n",
        "import seaborn as sns"
      ],
      "metadata": {
        "id": "2Y0vvHk9Rp5m"
      }
    },
    {
      "cell_type": "markdown",
      "source": [
        "### Dataset Loading"
      ],
      "metadata": {
        "id": "3RnN4peoiCZX"
      }
    },
    {
      "cell_type": "code",
      "source": [
        "# Load Dataset\n",
        "from google.colab import drive                    # Mounting drive\n",
        "drive.mount('/content/drive')"
      ],
      "metadata": {
        "id": "4CkvbW_SlZ_R",
        "colab": {
          "base_uri": "https://localhost:8080/"
        },
        "outputId": "dcebb5ef-c0d1-4756-b94f-2d6998fb7773"
      },
      "execution_count": 2,
      "outputs": [
        {
          "output_type": "stream",
          "name": "stdout",
          "text": [
            "Mounted at /content/drive\n"
          ]
        }
      ]
    },
    {
      "cell_type": "markdown",
      "source": [
        "### Dataset First View"
      ],
      "metadata": {
        "id": "x71ZqKXriCWQ"
      }
    },
    {
      "cell_type": "code",
      "source": [
        "# Dataset First Look\n",
        "#Let us read our data first\n",
        "#loading csv file\n",
        "file_path ='/content/Hotel Bookings.csv'\n",
        "#creating a data 'df' using read_csv | csv-comma seperated values \n",
        "hotel_booking_df=pd.read_csv(file_path)\n",
        "\n",
        "df1 =hotel_booking_df.copy()"
      ],
      "metadata": {
        "id": "LWNFOSvLl09H"
      },
      "execution_count": 3,
      "outputs": []
    },
    {
      "cell_type": "code",
      "source": [
        "# head will display top 5 rows (by  default)\n",
        "hotel_booking_df.head().T    # T is for rows to columns and columns to rows"
      ],
      "metadata": {
        "id": "lAkG5EFZVVP5",
        "colab": {
          "base_uri": "https://localhost:8080/",
          "height": 1000
        },
        "outputId": "b2a6f8f3-87be-4433-c4f4-b44370d9896d"
      },
      "execution_count": 4,
      "outputs": [
        {
          "output_type": "execute_result",
          "data": {
            "text/plain": [
              "                                           0             1             2  \\\n",
              "hotel                           Resort Hotel  Resort Hotel  Resort Hotel   \n",
              "is_canceled                                0             0             0   \n",
              "lead_time                                342           737             7   \n",
              "arrival_date_year                       2015          2015          2015   \n",
              "arrival_date_month                      July          July          July   \n",
              "arrival_date_week_number                  27            27            27   \n",
              "arrival_date_day_of_month                  1             1             1   \n",
              "stays_in_weekend_nights                    0             0             0   \n",
              "stays_in_week_nights                       0             0             1   \n",
              "adults                                     2             2             1   \n",
              "children                                 0.0           0.0           0.0   \n",
              "babies                                     0             0             0   \n",
              "meal                                      BB            BB            BB   \n",
              "country                                  PRT           PRT           GBR   \n",
              "market_segment                        Direct        Direct        Direct   \n",
              "distribution_channel                  Direct        Direct        Direct   \n",
              "is_repeated_guest                          0             0             0   \n",
              "previous_cancellations                     0             0             0   \n",
              "previous_bookings_not_canceled             0             0             0   \n",
              "reserved_room_type                         C             C             A   \n",
              "assigned_room_type                         C             C             C   \n",
              "booking_changes                          3.0           4.0           0.0   \n",
              "deposit_type                      No Deposit    No Deposit    No Deposit   \n",
              "agent                                    NaN           NaN           NaN   \n",
              "company                                  NaN           NaN           NaN   \n",
              "days_in_waiting_list                     0.0           0.0           0.0   \n",
              "customer_type                      Transient     Transient     Transient   \n",
              "adr                                      0.0           0.0          75.0   \n",
              "required_car_parking_spaces              0.0           0.0           0.0   \n",
              "total_of_special_requests                0.0           0.0           0.0   \n",
              "reservation_status                 Check-Out     Check-Out     Check-Out   \n",
              "reservation_status_date           2015-07-01    2015-07-01    2015-07-02   \n",
              "\n",
              "                                           3             4  \n",
              "hotel                           Resort Hotel  Resort Hotel  \n",
              "is_canceled                                0             0  \n",
              "lead_time                                 13            14  \n",
              "arrival_date_year                       2015          2015  \n",
              "arrival_date_month                      July          July  \n",
              "arrival_date_week_number                  27            27  \n",
              "arrival_date_day_of_month                  1             1  \n",
              "stays_in_weekend_nights                    0             0  \n",
              "stays_in_week_nights                       1             2  \n",
              "adults                                     1             2  \n",
              "children                                 0.0           0.0  \n",
              "babies                                     0             0  \n",
              "meal                                      BB            BB  \n",
              "country                                  GBR           GBR  \n",
              "market_segment                     Corporate     Online TA  \n",
              "distribution_channel               Corporate         TA/TO  \n",
              "is_repeated_guest                          0             0  \n",
              "previous_cancellations                     0             0  \n",
              "previous_bookings_not_canceled             0             0  \n",
              "reserved_room_type                         A             A  \n",
              "assigned_room_type                         A             A  \n",
              "booking_changes                          0.0           0.0  \n",
              "deposit_type                      No Deposit    No Deposit  \n",
              "agent                                  304.0         240.0  \n",
              "company                                  NaN           NaN  \n",
              "days_in_waiting_list                     0.0           0.0  \n",
              "customer_type                      Transient     Transient  \n",
              "adr                                     75.0          98.0  \n",
              "required_car_parking_spaces              0.0           0.0  \n",
              "total_of_special_requests                0.0           1.0  \n",
              "reservation_status                 Check-Out     Check-Out  \n",
              "reservation_status_date           2015-07-02    2015-07-03  "
            ],
            "text/html": [
              "\n",
              "  <div id=\"df-380ca551-89b2-4269-84a9-fbaaf167b3d5\">\n",
              "    <div class=\"colab-df-container\">\n",
              "      <div>\n",
              "<style scoped>\n",
              "    .dataframe tbody tr th:only-of-type {\n",
              "        vertical-align: middle;\n",
              "    }\n",
              "\n",
              "    .dataframe tbody tr th {\n",
              "        vertical-align: top;\n",
              "    }\n",
              "\n",
              "    .dataframe thead th {\n",
              "        text-align: right;\n",
              "    }\n",
              "</style>\n",
              "<table border=\"1\" class=\"dataframe\">\n",
              "  <thead>\n",
              "    <tr style=\"text-align: right;\">\n",
              "      <th></th>\n",
              "      <th>0</th>\n",
              "      <th>1</th>\n",
              "      <th>2</th>\n",
              "      <th>3</th>\n",
              "      <th>4</th>\n",
              "    </tr>\n",
              "  </thead>\n",
              "  <tbody>\n",
              "    <tr>\n",
              "      <th>hotel</th>\n",
              "      <td>Resort Hotel</td>\n",
              "      <td>Resort Hotel</td>\n",
              "      <td>Resort Hotel</td>\n",
              "      <td>Resort Hotel</td>\n",
              "      <td>Resort Hotel</td>\n",
              "    </tr>\n",
              "    <tr>\n",
              "      <th>is_canceled</th>\n",
              "      <td>0</td>\n",
              "      <td>0</td>\n",
              "      <td>0</td>\n",
              "      <td>0</td>\n",
              "      <td>0</td>\n",
              "    </tr>\n",
              "    <tr>\n",
              "      <th>lead_time</th>\n",
              "      <td>342</td>\n",
              "      <td>737</td>\n",
              "      <td>7</td>\n",
              "      <td>13</td>\n",
              "      <td>14</td>\n",
              "    </tr>\n",
              "    <tr>\n",
              "      <th>arrival_date_year</th>\n",
              "      <td>2015</td>\n",
              "      <td>2015</td>\n",
              "      <td>2015</td>\n",
              "      <td>2015</td>\n",
              "      <td>2015</td>\n",
              "    </tr>\n",
              "    <tr>\n",
              "      <th>arrival_date_month</th>\n",
              "      <td>July</td>\n",
              "      <td>July</td>\n",
              "      <td>July</td>\n",
              "      <td>July</td>\n",
              "      <td>July</td>\n",
              "    </tr>\n",
              "    <tr>\n",
              "      <th>arrival_date_week_number</th>\n",
              "      <td>27</td>\n",
              "      <td>27</td>\n",
              "      <td>27</td>\n",
              "      <td>27</td>\n",
              "      <td>27</td>\n",
              "    </tr>\n",
              "    <tr>\n",
              "      <th>arrival_date_day_of_month</th>\n",
              "      <td>1</td>\n",
              "      <td>1</td>\n",
              "      <td>1</td>\n",
              "      <td>1</td>\n",
              "      <td>1</td>\n",
              "    </tr>\n",
              "    <tr>\n",
              "      <th>stays_in_weekend_nights</th>\n",
              "      <td>0</td>\n",
              "      <td>0</td>\n",
              "      <td>0</td>\n",
              "      <td>0</td>\n",
              "      <td>0</td>\n",
              "    </tr>\n",
              "    <tr>\n",
              "      <th>stays_in_week_nights</th>\n",
              "      <td>0</td>\n",
              "      <td>0</td>\n",
              "      <td>1</td>\n",
              "      <td>1</td>\n",
              "      <td>2</td>\n",
              "    </tr>\n",
              "    <tr>\n",
              "      <th>adults</th>\n",
              "      <td>2</td>\n",
              "      <td>2</td>\n",
              "      <td>1</td>\n",
              "      <td>1</td>\n",
              "      <td>2</td>\n",
              "    </tr>\n",
              "    <tr>\n",
              "      <th>children</th>\n",
              "      <td>0.0</td>\n",
              "      <td>0.0</td>\n",
              "      <td>0.0</td>\n",
              "      <td>0.0</td>\n",
              "      <td>0.0</td>\n",
              "    </tr>\n",
              "    <tr>\n",
              "      <th>babies</th>\n",
              "      <td>0</td>\n",
              "      <td>0</td>\n",
              "      <td>0</td>\n",
              "      <td>0</td>\n",
              "      <td>0</td>\n",
              "    </tr>\n",
              "    <tr>\n",
              "      <th>meal</th>\n",
              "      <td>BB</td>\n",
              "      <td>BB</td>\n",
              "      <td>BB</td>\n",
              "      <td>BB</td>\n",
              "      <td>BB</td>\n",
              "    </tr>\n",
              "    <tr>\n",
              "      <th>country</th>\n",
              "      <td>PRT</td>\n",
              "      <td>PRT</td>\n",
              "      <td>GBR</td>\n",
              "      <td>GBR</td>\n",
              "      <td>GBR</td>\n",
              "    </tr>\n",
              "    <tr>\n",
              "      <th>market_segment</th>\n",
              "      <td>Direct</td>\n",
              "      <td>Direct</td>\n",
              "      <td>Direct</td>\n",
              "      <td>Corporate</td>\n",
              "      <td>Online TA</td>\n",
              "    </tr>\n",
              "    <tr>\n",
              "      <th>distribution_channel</th>\n",
              "      <td>Direct</td>\n",
              "      <td>Direct</td>\n",
              "      <td>Direct</td>\n",
              "      <td>Corporate</td>\n",
              "      <td>TA/TO</td>\n",
              "    </tr>\n",
              "    <tr>\n",
              "      <th>is_repeated_guest</th>\n",
              "      <td>0</td>\n",
              "      <td>0</td>\n",
              "      <td>0</td>\n",
              "      <td>0</td>\n",
              "      <td>0</td>\n",
              "    </tr>\n",
              "    <tr>\n",
              "      <th>previous_cancellations</th>\n",
              "      <td>0</td>\n",
              "      <td>0</td>\n",
              "      <td>0</td>\n",
              "      <td>0</td>\n",
              "      <td>0</td>\n",
              "    </tr>\n",
              "    <tr>\n",
              "      <th>previous_bookings_not_canceled</th>\n",
              "      <td>0</td>\n",
              "      <td>0</td>\n",
              "      <td>0</td>\n",
              "      <td>0</td>\n",
              "      <td>0</td>\n",
              "    </tr>\n",
              "    <tr>\n",
              "      <th>reserved_room_type</th>\n",
              "      <td>C</td>\n",
              "      <td>C</td>\n",
              "      <td>A</td>\n",
              "      <td>A</td>\n",
              "      <td>A</td>\n",
              "    </tr>\n",
              "    <tr>\n",
              "      <th>assigned_room_type</th>\n",
              "      <td>C</td>\n",
              "      <td>C</td>\n",
              "      <td>C</td>\n",
              "      <td>A</td>\n",
              "      <td>A</td>\n",
              "    </tr>\n",
              "    <tr>\n",
              "      <th>booking_changes</th>\n",
              "      <td>3.0</td>\n",
              "      <td>4.0</td>\n",
              "      <td>0.0</td>\n",
              "      <td>0.0</td>\n",
              "      <td>0.0</td>\n",
              "    </tr>\n",
              "    <tr>\n",
              "      <th>deposit_type</th>\n",
              "      <td>No Deposit</td>\n",
              "      <td>No Deposit</td>\n",
              "      <td>No Deposit</td>\n",
              "      <td>No Deposit</td>\n",
              "      <td>No Deposit</td>\n",
              "    </tr>\n",
              "    <tr>\n",
              "      <th>agent</th>\n",
              "      <td>NaN</td>\n",
              "      <td>NaN</td>\n",
              "      <td>NaN</td>\n",
              "      <td>304.0</td>\n",
              "      <td>240.0</td>\n",
              "    </tr>\n",
              "    <tr>\n",
              "      <th>company</th>\n",
              "      <td>NaN</td>\n",
              "      <td>NaN</td>\n",
              "      <td>NaN</td>\n",
              "      <td>NaN</td>\n",
              "      <td>NaN</td>\n",
              "    </tr>\n",
              "    <tr>\n",
              "      <th>days_in_waiting_list</th>\n",
              "      <td>0.0</td>\n",
              "      <td>0.0</td>\n",
              "      <td>0.0</td>\n",
              "      <td>0.0</td>\n",
              "      <td>0.0</td>\n",
              "    </tr>\n",
              "    <tr>\n",
              "      <th>customer_type</th>\n",
              "      <td>Transient</td>\n",
              "      <td>Transient</td>\n",
              "      <td>Transient</td>\n",
              "      <td>Transient</td>\n",
              "      <td>Transient</td>\n",
              "    </tr>\n",
              "    <tr>\n",
              "      <th>adr</th>\n",
              "      <td>0.0</td>\n",
              "      <td>0.0</td>\n",
              "      <td>75.0</td>\n",
              "      <td>75.0</td>\n",
              "      <td>98.0</td>\n",
              "    </tr>\n",
              "    <tr>\n",
              "      <th>required_car_parking_spaces</th>\n",
              "      <td>0.0</td>\n",
              "      <td>0.0</td>\n",
              "      <td>0.0</td>\n",
              "      <td>0.0</td>\n",
              "      <td>0.0</td>\n",
              "    </tr>\n",
              "    <tr>\n",
              "      <th>total_of_special_requests</th>\n",
              "      <td>0.0</td>\n",
              "      <td>0.0</td>\n",
              "      <td>0.0</td>\n",
              "      <td>0.0</td>\n",
              "      <td>1.0</td>\n",
              "    </tr>\n",
              "    <tr>\n",
              "      <th>reservation_status</th>\n",
              "      <td>Check-Out</td>\n",
              "      <td>Check-Out</td>\n",
              "      <td>Check-Out</td>\n",
              "      <td>Check-Out</td>\n",
              "      <td>Check-Out</td>\n",
              "    </tr>\n",
              "    <tr>\n",
              "      <th>reservation_status_date</th>\n",
              "      <td>2015-07-01</td>\n",
              "      <td>2015-07-01</td>\n",
              "      <td>2015-07-02</td>\n",
              "      <td>2015-07-02</td>\n",
              "      <td>2015-07-03</td>\n",
              "    </tr>\n",
              "  </tbody>\n",
              "</table>\n",
              "</div>\n",
              "      <button class=\"colab-df-convert\" onclick=\"convertToInteractive('df-380ca551-89b2-4269-84a9-fbaaf167b3d5')\"\n",
              "              title=\"Convert this dataframe to an interactive table.\"\n",
              "              style=\"display:none;\">\n",
              "        \n",
              "  <svg xmlns=\"http://www.w3.org/2000/svg\" height=\"24px\"viewBox=\"0 0 24 24\"\n",
              "       width=\"24px\">\n",
              "    <path d=\"M0 0h24v24H0V0z\" fill=\"none\"/>\n",
              "    <path d=\"M18.56 5.44l.94 2.06.94-2.06 2.06-.94-2.06-.94-.94-2.06-.94 2.06-2.06.94zm-11 1L8.5 8.5l.94-2.06 2.06-.94-2.06-.94L8.5 2.5l-.94 2.06-2.06.94zm10 10l.94 2.06.94-2.06 2.06-.94-2.06-.94-.94-2.06-.94 2.06-2.06.94z\"/><path d=\"M17.41 7.96l-1.37-1.37c-.4-.4-.92-.59-1.43-.59-.52 0-1.04.2-1.43.59L10.3 9.45l-7.72 7.72c-.78.78-.78 2.05 0 2.83L4 21.41c.39.39.9.59 1.41.59.51 0 1.02-.2 1.41-.59l7.78-7.78 2.81-2.81c.8-.78.8-2.07 0-2.86zM5.41 20L4 18.59l7.72-7.72 1.47 1.35L5.41 20z\"/>\n",
              "  </svg>\n",
              "      </button>\n",
              "      \n",
              "  <style>\n",
              "    .colab-df-container {\n",
              "      display:flex;\n",
              "      flex-wrap:wrap;\n",
              "      gap: 12px;\n",
              "    }\n",
              "\n",
              "    .colab-df-convert {\n",
              "      background-color: #E8F0FE;\n",
              "      border: none;\n",
              "      border-radius: 50%;\n",
              "      cursor: pointer;\n",
              "      display: none;\n",
              "      fill: #1967D2;\n",
              "      height: 32px;\n",
              "      padding: 0 0 0 0;\n",
              "      width: 32px;\n",
              "    }\n",
              "\n",
              "    .colab-df-convert:hover {\n",
              "      background-color: #E2EBFA;\n",
              "      box-shadow: 0px 1px 2px rgba(60, 64, 67, 0.3), 0px 1px 3px 1px rgba(60, 64, 67, 0.15);\n",
              "      fill: #174EA6;\n",
              "    }\n",
              "\n",
              "    [theme=dark] .colab-df-convert {\n",
              "      background-color: #3B4455;\n",
              "      fill: #D2E3FC;\n",
              "    }\n",
              "\n",
              "    [theme=dark] .colab-df-convert:hover {\n",
              "      background-color: #434B5C;\n",
              "      box-shadow: 0px 1px 3px 1px rgba(0, 0, 0, 0.15);\n",
              "      filter: drop-shadow(0px 1px 2px rgba(0, 0, 0, 0.3));\n",
              "      fill: #FFFFFF;\n",
              "    }\n",
              "  </style>\n",
              "\n",
              "      <script>\n",
              "        const buttonEl =\n",
              "          document.querySelector('#df-380ca551-89b2-4269-84a9-fbaaf167b3d5 button.colab-df-convert');\n",
              "        buttonEl.style.display =\n",
              "          google.colab.kernel.accessAllowed ? 'block' : 'none';\n",
              "\n",
              "        async function convertToInteractive(key) {\n",
              "          const element = document.querySelector('#df-380ca551-89b2-4269-84a9-fbaaf167b3d5');\n",
              "          const dataTable =\n",
              "            await google.colab.kernel.invokeFunction('convertToInteractive',\n",
              "                                                     [key], {});\n",
              "          if (!dataTable) return;\n",
              "\n",
              "          const docLinkHtml = 'Like what you see? Visit the ' +\n",
              "            '<a target=\"_blank\" href=https://colab.research.google.com/notebooks/data_table.ipynb>data table notebook</a>'\n",
              "            + ' to learn more about interactive tables.';\n",
              "          element.innerHTML = '';\n",
              "          dataTable['output_type'] = 'display_data';\n",
              "          await google.colab.output.renderOutput(dataTable, element);\n",
              "          const docLink = document.createElement('div');\n",
              "          docLink.innerHTML = docLinkHtml;\n",
              "          element.appendChild(docLink);\n",
              "        }\n",
              "      </script>\n",
              "    </div>\n",
              "  </div>\n",
              "  "
            ]
          },
          "metadata": {},
          "execution_count": 4
        }
      ]
    },
    {
      "cell_type": "code",
      "source": [
        "hotel_booking_df.tail()"
      ],
      "metadata": {
        "id": "jFhvF921Vdd9",
        "colab": {
          "base_uri": "https://localhost:8080/",
          "height": 386
        },
        "outputId": "b02036a3-6d6c-4d16-cb91-28133f1d34e3"
      },
      "execution_count": 5,
      "outputs": [
        {
          "output_type": "execute_result",
          "data": {
            "text/plain": [
              "            hotel  is_canceled  lead_time  arrival_date_year  \\\n",
              "43912  City Hotel            1         35               2015   \n",
              "43913  City Hotel            1         87               2015   \n",
              "43914  City Hotel            1         87               2015   \n",
              "43915  City Hotel            1         87               2015   \n",
              "43916  City Hotel            1         87               2015   \n",
              "\n",
              "      arrival_date_month  arrival_date_week_number  arrival_date_day_of_month  \\\n",
              "43912          September                        39                         25   \n",
              "43913          September                        39                         25   \n",
              "43914          September                        39                         25   \n",
              "43915          September                        39                         25   \n",
              "43916          September                        39                         25   \n",
              "\n",
              "       stays_in_weekend_nights  stays_in_week_nights  adults  ...  \\\n",
              "43912                        2                     3       2  ...   \n",
              "43913                        2                     3       2  ...   \n",
              "43914                        2                     3       2  ...   \n",
              "43915                        2                     3       2  ...   \n",
              "43916                        2                     3       2  ...   \n",
              "\n",
              "       deposit_type  agent company days_in_waiting_list customer_type    adr  \\\n",
              "43912    Non Refund    1.0     NaN                  0.0     Transient  170.0   \n",
              "43913    Non Refund    1.0     NaN                  0.0     Transient  170.0   \n",
              "43914    Non Refund    1.0     NaN                  0.0     Transient  170.0   \n",
              "43915    Non Refund    1.0     NaN                  0.0     Transient  170.0   \n",
              "43916           NaN    NaN     NaN                  NaN           NaN    NaN   \n",
              "\n",
              "       required_car_parking_spaces  total_of_special_requests  \\\n",
              "43912                          0.0                        0.0   \n",
              "43913                          0.0                        0.0   \n",
              "43914                          0.0                        0.0   \n",
              "43915                          0.0                        0.0   \n",
              "43916                          NaN                        NaN   \n",
              "\n",
              "       reservation_status reservation_status_date  \n",
              "43912            Canceled              2015-09-09  \n",
              "43913            Canceled              2015-09-09  \n",
              "43914            Canceled              2015-09-09  \n",
              "43915            Canceled              2015-09-09  \n",
              "43916                 NaN                     NaN  \n",
              "\n",
              "[5 rows x 32 columns]"
            ],
            "text/html": [
              "\n",
              "  <div id=\"df-2576ff60-944d-4060-bc85-cdd32a61a1a7\">\n",
              "    <div class=\"colab-df-container\">\n",
              "      <div>\n",
              "<style scoped>\n",
              "    .dataframe tbody tr th:only-of-type {\n",
              "        vertical-align: middle;\n",
              "    }\n",
              "\n",
              "    .dataframe tbody tr th {\n",
              "        vertical-align: top;\n",
              "    }\n",
              "\n",
              "    .dataframe thead th {\n",
              "        text-align: right;\n",
              "    }\n",
              "</style>\n",
              "<table border=\"1\" class=\"dataframe\">\n",
              "  <thead>\n",
              "    <tr style=\"text-align: right;\">\n",
              "      <th></th>\n",
              "      <th>hotel</th>\n",
              "      <th>is_canceled</th>\n",
              "      <th>lead_time</th>\n",
              "      <th>arrival_date_year</th>\n",
              "      <th>arrival_date_month</th>\n",
              "      <th>arrival_date_week_number</th>\n",
              "      <th>arrival_date_day_of_month</th>\n",
              "      <th>stays_in_weekend_nights</th>\n",
              "      <th>stays_in_week_nights</th>\n",
              "      <th>adults</th>\n",
              "      <th>...</th>\n",
              "      <th>deposit_type</th>\n",
              "      <th>agent</th>\n",
              "      <th>company</th>\n",
              "      <th>days_in_waiting_list</th>\n",
              "      <th>customer_type</th>\n",
              "      <th>adr</th>\n",
              "      <th>required_car_parking_spaces</th>\n",
              "      <th>total_of_special_requests</th>\n",
              "      <th>reservation_status</th>\n",
              "      <th>reservation_status_date</th>\n",
              "    </tr>\n",
              "  </thead>\n",
              "  <tbody>\n",
              "    <tr>\n",
              "      <th>43912</th>\n",
              "      <td>City Hotel</td>\n",
              "      <td>1</td>\n",
              "      <td>35</td>\n",
              "      <td>2015</td>\n",
              "      <td>September</td>\n",
              "      <td>39</td>\n",
              "      <td>25</td>\n",
              "      <td>2</td>\n",
              "      <td>3</td>\n",
              "      <td>2</td>\n",
              "      <td>...</td>\n",
              "      <td>Non Refund</td>\n",
              "      <td>1.0</td>\n",
              "      <td>NaN</td>\n",
              "      <td>0.0</td>\n",
              "      <td>Transient</td>\n",
              "      <td>170.0</td>\n",
              "      <td>0.0</td>\n",
              "      <td>0.0</td>\n",
              "      <td>Canceled</td>\n",
              "      <td>2015-09-09</td>\n",
              "    </tr>\n",
              "    <tr>\n",
              "      <th>43913</th>\n",
              "      <td>City Hotel</td>\n",
              "      <td>1</td>\n",
              "      <td>87</td>\n",
              "      <td>2015</td>\n",
              "      <td>September</td>\n",
              "      <td>39</td>\n",
              "      <td>25</td>\n",
              "      <td>2</td>\n",
              "      <td>3</td>\n",
              "      <td>2</td>\n",
              "      <td>...</td>\n",
              "      <td>Non Refund</td>\n",
              "      <td>1.0</td>\n",
              "      <td>NaN</td>\n",
              "      <td>0.0</td>\n",
              "      <td>Transient</td>\n",
              "      <td>170.0</td>\n",
              "      <td>0.0</td>\n",
              "      <td>0.0</td>\n",
              "      <td>Canceled</td>\n",
              "      <td>2015-09-09</td>\n",
              "    </tr>\n",
              "    <tr>\n",
              "      <th>43914</th>\n",
              "      <td>City Hotel</td>\n",
              "      <td>1</td>\n",
              "      <td>87</td>\n",
              "      <td>2015</td>\n",
              "      <td>September</td>\n",
              "      <td>39</td>\n",
              "      <td>25</td>\n",
              "      <td>2</td>\n",
              "      <td>3</td>\n",
              "      <td>2</td>\n",
              "      <td>...</td>\n",
              "      <td>Non Refund</td>\n",
              "      <td>1.0</td>\n",
              "      <td>NaN</td>\n",
              "      <td>0.0</td>\n",
              "      <td>Transient</td>\n",
              "      <td>170.0</td>\n",
              "      <td>0.0</td>\n",
              "      <td>0.0</td>\n",
              "      <td>Canceled</td>\n",
              "      <td>2015-09-09</td>\n",
              "    </tr>\n",
              "    <tr>\n",
              "      <th>43915</th>\n",
              "      <td>City Hotel</td>\n",
              "      <td>1</td>\n",
              "      <td>87</td>\n",
              "      <td>2015</td>\n",
              "      <td>September</td>\n",
              "      <td>39</td>\n",
              "      <td>25</td>\n",
              "      <td>2</td>\n",
              "      <td>3</td>\n",
              "      <td>2</td>\n",
              "      <td>...</td>\n",
              "      <td>Non Refund</td>\n",
              "      <td>1.0</td>\n",
              "      <td>NaN</td>\n",
              "      <td>0.0</td>\n",
              "      <td>Transient</td>\n",
              "      <td>170.0</td>\n",
              "      <td>0.0</td>\n",
              "      <td>0.0</td>\n",
              "      <td>Canceled</td>\n",
              "      <td>2015-09-09</td>\n",
              "    </tr>\n",
              "    <tr>\n",
              "      <th>43916</th>\n",
              "      <td>City Hotel</td>\n",
              "      <td>1</td>\n",
              "      <td>87</td>\n",
              "      <td>2015</td>\n",
              "      <td>September</td>\n",
              "      <td>39</td>\n",
              "      <td>25</td>\n",
              "      <td>2</td>\n",
              "      <td>3</td>\n",
              "      <td>2</td>\n",
              "      <td>...</td>\n",
              "      <td>NaN</td>\n",
              "      <td>NaN</td>\n",
              "      <td>NaN</td>\n",
              "      <td>NaN</td>\n",
              "      <td>NaN</td>\n",
              "      <td>NaN</td>\n",
              "      <td>NaN</td>\n",
              "      <td>NaN</td>\n",
              "      <td>NaN</td>\n",
              "      <td>NaN</td>\n",
              "    </tr>\n",
              "  </tbody>\n",
              "</table>\n",
              "<p>5 rows × 32 columns</p>\n",
              "</div>\n",
              "      <button class=\"colab-df-convert\" onclick=\"convertToInteractive('df-2576ff60-944d-4060-bc85-cdd32a61a1a7')\"\n",
              "              title=\"Convert this dataframe to an interactive table.\"\n",
              "              style=\"display:none;\">\n",
              "        \n",
              "  <svg xmlns=\"http://www.w3.org/2000/svg\" height=\"24px\"viewBox=\"0 0 24 24\"\n",
              "       width=\"24px\">\n",
              "    <path d=\"M0 0h24v24H0V0z\" fill=\"none\"/>\n",
              "    <path d=\"M18.56 5.44l.94 2.06.94-2.06 2.06-.94-2.06-.94-.94-2.06-.94 2.06-2.06.94zm-11 1L8.5 8.5l.94-2.06 2.06-.94-2.06-.94L8.5 2.5l-.94 2.06-2.06.94zm10 10l.94 2.06.94-2.06 2.06-.94-2.06-.94-.94-2.06-.94 2.06-2.06.94z\"/><path d=\"M17.41 7.96l-1.37-1.37c-.4-.4-.92-.59-1.43-.59-.52 0-1.04.2-1.43.59L10.3 9.45l-7.72 7.72c-.78.78-.78 2.05 0 2.83L4 21.41c.39.39.9.59 1.41.59.51 0 1.02-.2 1.41-.59l7.78-7.78 2.81-2.81c.8-.78.8-2.07 0-2.86zM5.41 20L4 18.59l7.72-7.72 1.47 1.35L5.41 20z\"/>\n",
              "  </svg>\n",
              "      </button>\n",
              "      \n",
              "  <style>\n",
              "    .colab-df-container {\n",
              "      display:flex;\n",
              "      flex-wrap:wrap;\n",
              "      gap: 12px;\n",
              "    }\n",
              "\n",
              "    .colab-df-convert {\n",
              "      background-color: #E8F0FE;\n",
              "      border: none;\n",
              "      border-radius: 50%;\n",
              "      cursor: pointer;\n",
              "      display: none;\n",
              "      fill: #1967D2;\n",
              "      height: 32px;\n",
              "      padding: 0 0 0 0;\n",
              "      width: 32px;\n",
              "    }\n",
              "\n",
              "    .colab-df-convert:hover {\n",
              "      background-color: #E2EBFA;\n",
              "      box-shadow: 0px 1px 2px rgba(60, 64, 67, 0.3), 0px 1px 3px 1px rgba(60, 64, 67, 0.15);\n",
              "      fill: #174EA6;\n",
              "    }\n",
              "\n",
              "    [theme=dark] .colab-df-convert {\n",
              "      background-color: #3B4455;\n",
              "      fill: #D2E3FC;\n",
              "    }\n",
              "\n",
              "    [theme=dark] .colab-df-convert:hover {\n",
              "      background-color: #434B5C;\n",
              "      box-shadow: 0px 1px 3px 1px rgba(0, 0, 0, 0.15);\n",
              "      filter: drop-shadow(0px 1px 2px rgba(0, 0, 0, 0.3));\n",
              "      fill: #FFFFFF;\n",
              "    }\n",
              "  </style>\n",
              "\n",
              "      <script>\n",
              "        const buttonEl =\n",
              "          document.querySelector('#df-2576ff60-944d-4060-bc85-cdd32a61a1a7 button.colab-df-convert');\n",
              "        buttonEl.style.display =\n",
              "          google.colab.kernel.accessAllowed ? 'block' : 'none';\n",
              "\n",
              "        async function convertToInteractive(key) {\n",
              "          const element = document.querySelector('#df-2576ff60-944d-4060-bc85-cdd32a61a1a7');\n",
              "          const dataTable =\n",
              "            await google.colab.kernel.invokeFunction('convertToInteractive',\n",
              "                                                     [key], {});\n",
              "          if (!dataTable) return;\n",
              "\n",
              "          const docLinkHtml = 'Like what you see? Visit the ' +\n",
              "            '<a target=\"_blank\" href=https://colab.research.google.com/notebooks/data_table.ipynb>data table notebook</a>'\n",
              "            + ' to learn more about interactive tables.';\n",
              "          element.innerHTML = '';\n",
              "          dataTable['output_type'] = 'display_data';\n",
              "          await google.colab.output.renderOutput(dataTable, element);\n",
              "          const docLink = document.createElement('div');\n",
              "          docLink.innerHTML = docLinkHtml;\n",
              "          element.appendChild(docLink);\n",
              "        }\n",
              "      </script>\n",
              "    </div>\n",
              "  </div>\n",
              "  "
            ]
          },
          "metadata": {},
          "execution_count": 5
        }
      ]
    },
    {
      "cell_type": "markdown",
      "source": [
        "### Dataset Rows & Columns count"
      ],
      "metadata": {
        "id": "7hBIi_osiCS2"
      }
    },
    {
      "cell_type": "code",
      "source": [
        "# shape gives us number of rows and columns\n",
        "hotel_booking_df.shape"
      ],
      "metadata": {
        "id": "Bip6P5zsW8fj",
        "colab": {
          "base_uri": "https://localhost:8080/"
        },
        "outputId": "70831476-f31d-4dde-fcf6-5ad3a01f1edc"
      },
      "execution_count": 6,
      "outputs": [
        {
          "output_type": "execute_result",
          "data": {
            "text/plain": [
              "(43917, 32)"
            ]
          },
          "metadata": {},
          "execution_count": 6
        }
      ]
    },
    {
      "cell_type": "markdown",
      "source": [
        "### Dataset Information"
      ],
      "metadata": {
        "id": "JlHwYmJAmNHm"
      }
    },
    {
      "cell_type": "code",
      "source": [
        "# Dataset Info\n",
        "hotel_booking_df.info()"
      ],
      "metadata": {
        "id": "_8Ut5Evo7xZz",
        "colab": {
          "base_uri": "https://localhost:8080/"
        },
        "outputId": "104e2411-7e78-41ba-ecf6-8d5b4e26985f"
      },
      "execution_count": 7,
      "outputs": [
        {
          "output_type": "stream",
          "name": "stdout",
          "text": [
            "<class 'pandas.core.frame.DataFrame'>\n",
            "RangeIndex: 43917 entries, 0 to 43916\n",
            "Data columns (total 32 columns):\n",
            " #   Column                          Non-Null Count  Dtype  \n",
            "---  ------                          --------------  -----  \n",
            " 0   hotel                           43917 non-null  object \n",
            " 1   is_canceled                     43917 non-null  int64  \n",
            " 2   lead_time                       43917 non-null  int64  \n",
            " 3   arrival_date_year               43917 non-null  int64  \n",
            " 4   arrival_date_month              43917 non-null  object \n",
            " 5   arrival_date_week_number        43917 non-null  int64  \n",
            " 6   arrival_date_day_of_month       43917 non-null  int64  \n",
            " 7   stays_in_weekend_nights         43917 non-null  int64  \n",
            " 8   stays_in_week_nights            43917 non-null  int64  \n",
            " 9   adults                          43917 non-null  int64  \n",
            " 10  children                        43913 non-null  float64\n",
            " 11  babies                          43917 non-null  int64  \n",
            " 12  meal                            43917 non-null  object \n",
            " 13  country                         43453 non-null  object \n",
            " 14  market_segment                  43917 non-null  object \n",
            " 15  distribution_channel            43917 non-null  object \n",
            " 16  is_repeated_guest               43917 non-null  int64  \n",
            " 17  previous_cancellations          43917 non-null  int64  \n",
            " 18  previous_bookings_not_canceled  43917 non-null  int64  \n",
            " 19  reserved_room_type              43917 non-null  object \n",
            " 20  assigned_room_type              43917 non-null  object \n",
            " 21  booking_changes                 43916 non-null  float64\n",
            " 22  deposit_type                    43916 non-null  object \n",
            " 23  agent                           35277 non-null  float64\n",
            " 24  company                         3281 non-null   float64\n",
            " 25  days_in_waiting_list            43916 non-null  float64\n",
            " 26  customer_type                   43916 non-null  object \n",
            " 27  adr                             43916 non-null  float64\n",
            " 28  required_car_parking_spaces     43916 non-null  float64\n",
            " 29  total_of_special_requests       43916 non-null  float64\n",
            " 30  reservation_status              43916 non-null  object \n",
            " 31  reservation_status_date         43916 non-null  object \n",
            "dtypes: float64(8), int64(12), object(12)\n",
            "memory usage: 10.7+ MB\n"
          ]
        }
      ]
    },
    {
      "cell_type": "markdown",
      "source": [
        "#### Duplicate Values"
      ],
      "metadata": {
        "id": "35m5QtbWiB9F"
      }
    },
    {
      "cell_type": "markdown",
      "source": [
        "Cleaning data is crucial step before EDA as it will remove the ambigous data that can affect the outcome of EDA.\n",
        "\n",
        "While cleaning data we will perform following step\n",
        "\n",
        "1) Remove duplicate rows\n",
        "\n",
        "2) Handling missing values.\n",
        "\n",
        "3) Convert columns to appropriate datatypes.\n",
        "\n",
        "4) Adding important columns"
      ],
      "metadata": {
        "id": "1besoSo9eSiJ"
      }
    },
    {
      "cell_type": "markdown",
      "source": [
        "### <b> Step 1: Removing duplicate rows if any </b>"
      ],
      "metadata": {
        "id": "_CXxGztATDXE"
      }
    },
    {
      "cell_type": "code",
      "source": [
        "# Dataset Duplicate Value Count\n",
        "hotel_booking_df[hotel_booking_df.duplicated()].shape"
      ],
      "metadata": {
        "id": "w-53O86-damK",
        "colab": {
          "base_uri": "https://localhost:8080/"
        },
        "outputId": "722aebe2-7f7c-430d-e928-8884c4eac9b5"
      },
      "execution_count": 8,
      "outputs": [
        {
          "output_type": "execute_result",
          "data": {
            "text/plain": [
              "(7767, 32)"
            ]
          },
          "metadata": {},
          "execution_count": 8
        }
      ]
    },
    {
      "cell_type": "code",
      "source": [
        "# Dropping duplicate values\n",
        "hotel_booking_df.drop_duplicates(inplace = True)"
      ],
      "metadata": {
        "id": "XXQx4ryCdpMj"
      },
      "execution_count": 9,
      "outputs": []
    },
    {
      "cell_type": "code",
      "source": [
        "hotel_booking_df.shape"
      ],
      "metadata": {
        "id": "7uFeteDrds1F",
        "colab": {
          "base_uri": "https://localhost:8080/"
        },
        "outputId": "694311b6-b7d8-4a0b-946f-88df9b8f9955"
      },
      "execution_count": 10,
      "outputs": [
        {
          "output_type": "execute_result",
          "data": {
            "text/plain": [
              "(36150, 32)"
            ]
          },
          "metadata": {},
          "execution_count": 10
        }
      ]
    },
    {
      "cell_type": "markdown",
      "source": [
        "### <b> Step2: Handling missing values. </b>"
      ],
      "metadata": {
        "id": "JK1JmbupWL79"
      }
    },
    {
      "cell_type": "code",
      "source": [
        "# Columns having missing values.\n",
        "df1.isnull().sum().sort_values(ascending = False)[:6]"
      ],
      "metadata": {
        "id": "NRe5UnFJWSK2",
        "colab": {
          "base_uri": "https://localhost:8080/"
        },
        "outputId": "080bef5b-1aa0-450f-f61e-60de60a53be6"
      },
      "execution_count": 11,
      "outputs": [
        {
          "output_type": "execute_result",
          "data": {
            "text/plain": [
              "company                 40636\n",
              "agent                    8640\n",
              "country                   464\n",
              "children                    4\n",
              "days_in_waiting_list        1\n",
              "booking_changes             1\n",
              "dtype: int64"
            ]
          },
          "metadata": {},
          "execution_count": 11
        }
      ]
    },
    {
      "cell_type": "markdown",
      "source": [
        "Since, company and agent columns have comany number and agent numbers as data. There may be some cases when customer didnt booked hotel via any agent or via any company. So in that case values can be null under these columns. \\\n",
        "We will replace null values by 0 in these columns "
      ],
      "metadata": {
        "id": "T-4uQUhlXxVU"
      }
    },
    {
      "cell_type": "code",
      "source": [
        "df1[['company','agent']] = df1[['company','agent']].fillna(0)"
      ],
      "metadata": {
        "id": "8gmRC16gWSH2"
      },
      "execution_count": 12,
      "outputs": []
    },
    {
      "cell_type": "code",
      "source": [
        "df1['children'].unique()"
      ],
      "metadata": {
        "id": "CXF7mztlbmGr",
        "colab": {
          "base_uri": "https://localhost:8080/"
        },
        "outputId": "72c4906d-4b90-48ce-cded-997585ad1951"
      },
      "execution_count": 13,
      "outputs": [
        {
          "output_type": "execute_result",
          "data": {
            "text/plain": [
              "array([ 0.,  1.,  2., 10.,  3., nan])"
            ]
          },
          "metadata": {},
          "execution_count": 13
        }
      ]
    },
    {
      "cell_type": "markdown",
      "source": [
        "This column 'children' has 0 as value which means 0 children were present in group of customers who made that transaction. \\\n",
        "So, 'nan' values are the missing values due to error of recording data. \\\n",
        " \\\n",
        "We will replace the null values under this column with mean value of children."
      ],
      "metadata": {
        "id": "bYeTgLGAai7N"
      }
    },
    {
      "cell_type": "code",
      "source": [
        "df1['children'].fillna(df1['children'].mean(), inplace = True)"
      ],
      "metadata": {
        "id": "UCH87STXWSFx"
      },
      "execution_count": 14,
      "outputs": []
    },
    {
      "cell_type": "markdown",
      "source": [
        "Next column with missing value is 'country'.\n",
        "This column represents the country of oriigin of customer. \\\n",
        "Since, this column has datatype of string. We will replace the missing value with the mode of 'country' column."
      ],
      "metadata": {
        "id": "VKF1hhpMcYsZ"
      }
    },
    {
      "cell_type": "code",
      "source": [
        "df1['country'].fillna('others', inplace = True)"
      ],
      "metadata": {
        "id": "kYKKRfvUWSDf"
      },
      "execution_count": 15,
      "outputs": []
    },
    {
      "cell_type": "code",
      "source": [
        "# Checking if all null values are removed\n",
        "df1.isnull().sum().sort_values(ascending = False)[:6]"
      ],
      "metadata": {
        "id": "mVcsA88bc2PU",
        "colab": {
          "base_uri": "https://localhost:8080/"
        },
        "outputId": "220dfb69-52ba-4849-a6c0-f44d3eb57e79"
      },
      "execution_count": 16,
      "outputs": [
        {
          "output_type": "execute_result",
          "data": {
            "text/plain": [
              "reservation_status_date        1\n",
              "reservation_status             1\n",
              "total_of_special_requests      1\n",
              "required_car_parking_spaces    1\n",
              "adr                            1\n",
              "customer_type                  1\n",
              "dtype: int64"
            ]
          },
          "metadata": {},
          "execution_count": 16
        }
      ]
    },
    {
      "cell_type": "markdown",
      "source": [
        "There are some rows with total number of adults, children or babies equal to zero. So we will remove such rows."
      ],
      "metadata": {
        "id": "P7aQSKz4Bhe1"
      }
    },
    {
      "cell_type": "code",
      "source": [
        "df1[df1['adults']+df1['babies']+df1['children'] == 0].shape"
      ],
      "metadata": {
        "id": "zStRIFi8BDKE",
        "colab": {
          "base_uri": "https://localhost:8080/"
        },
        "outputId": "62b968f5-c59d-4fe4-c5ba-6388d85656bb"
      },
      "execution_count": 17,
      "outputs": [
        {
          "output_type": "execute_result",
          "data": {
            "text/plain": [
              "(21, 32)"
            ]
          },
          "metadata": {},
          "execution_count": 17
        }
      ]
    },
    {
      "cell_type": "code",
      "source": [
        "df1.drop(df1[df1['adults']+df1['babies']+df1['children'] == 0].index, inplace = True)"
      ],
      "metadata": {
        "id": "Fagd-ZT8Bs9i"
      },
      "execution_count": 18,
      "outputs": []
    },
    {
      "cell_type": "markdown",
      "source": [
        "#### Missing Values/Null Values"
      ],
      "metadata": {
        "id": "PoPl-ycgm1ru"
      }
    },
    {
      "cell_type": "code",
      "source": [
        "# Missing Values/Null Values Count\n",
        "\n",
        "# Columns having missing values.\n",
        "df1.isnull().sum().sort_values(ascending = False)[:6]"
      ],
      "metadata": {
        "id": "GgHWkxvamxVg",
        "colab": {
          "base_uri": "https://localhost:8080/"
        },
        "outputId": "72d8adb2-3a51-47be-dc68-341f1f4affa7"
      },
      "execution_count": 19,
      "outputs": [
        {
          "output_type": "execute_result",
          "data": {
            "text/plain": [
              "reservation_status_date        1\n",
              "reservation_status             1\n",
              "total_of_special_requests      1\n",
              "required_car_parking_spaces    1\n",
              "adr                            1\n",
              "customer_type                  1\n",
              "dtype: int64"
            ]
          },
          "metadata": {},
          "execution_count": 19
        }
      ]
    },
    {
      "cell_type": "markdown",
      "source": [
        "Since, company and agent columns have comany number and agent numbers as data. There may be some cases when customer didnt booked hotel via any agent or via any company. So in that case values can be null under these columns.\n",
        "We will replace null values by 0 in these columns\n",
        "\n"
      ],
      "metadata": {
        "id": "qVpQ_Hpld-Jp"
      }
    },
    {
      "cell_type": "code",
      "source": [
        "df1[['company','agent']] = df1[['company','agent']].fillna(0)"
      ],
      "metadata": {
        "id": "tqC_R2W-g-T7"
      },
      "execution_count": 20,
      "outputs": []
    },
    {
      "cell_type": "code",
      "source": [
        "df1['children'].unique()"
      ],
      "metadata": {
        "id": "fP3CVc8HhA_W",
        "colab": {
          "base_uri": "https://localhost:8080/"
        },
        "outputId": "bdcacd52-6a87-45c3-dc85-28babf6b5916"
      },
      "execution_count": 21,
      "outputs": [
        {
          "output_type": "execute_result",
          "data": {
            "text/plain": [
              "array([ 0.        ,  1.        ,  2.        , 10.        ,  3.        ,\n",
              "        0.12262883])"
            ]
          },
          "metadata": {},
          "execution_count": 21
        }
      ]
    },
    {
      "cell_type": "markdown",
      "source": [
        "This column 'children' has 0 as value which means 0 children were present in group of customers who made that transaction.\n",
        "So, 'nan' values are the missing values due to error of recording data.\n",
        "\n",
        "We will replace the null values under this column with mean value of children."
      ],
      "metadata": {
        "id": "sbDYP04ShRWv"
      }
    },
    {
      "cell_type": "code",
      "source": [
        "df1['children'].fillna(df1['children'].mean(), inplace = True)"
      ],
      "metadata": {
        "id": "vUyxGvy2hURi"
      },
      "execution_count": 22,
      "outputs": []
    },
    {
      "cell_type": "markdown",
      "source": [
        "Next column with missing value is 'country'. This column represents the country of oriigin of customer.\n",
        "Since, this column has datatype of string. We will replace the missing value with the mode of 'country' column."
      ],
      "metadata": {
        "id": "RRfhC2W2hgVh"
      }
    },
    {
      "cell_type": "code",
      "source": [
        "df1['country'].fillna('others', inplace = True)"
      ],
      "metadata": {
        "id": "r4RCDs-egkqW"
      },
      "execution_count": 23,
      "outputs": []
    },
    {
      "cell_type": "code",
      "source": [
        "# Visualizing the missing values\n",
        "\n",
        "#Checking if all null values are removed\n",
        "df1.isnull().sum().sort_values(ascending = False)[:6]\n"
      ],
      "metadata": {
        "id": "3q5wnI3om9sJ",
        "colab": {
          "base_uri": "https://localhost:8080/"
        },
        "outputId": "c991c785-e3b7-4835-a581-6ffd6476cc3f"
      },
      "execution_count": 24,
      "outputs": [
        {
          "output_type": "execute_result",
          "data": {
            "text/plain": [
              "reservation_status_date        1\n",
              "reservation_status             1\n",
              "total_of_special_requests      1\n",
              "required_car_parking_spaces    1\n",
              "adr                            1\n",
              "customer_type                  1\n",
              "dtype: int64"
            ]
          },
          "metadata": {},
          "execution_count": 24
        }
      ]
    },
    {
      "cell_type": "markdown",
      "source": [
        "There are some rows with total number of adults, children or babies equal to zero. So we will remove such rows.\n",
        "\n"
      ],
      "metadata": {
        "id": "Q9f3UA40hwxx"
      }
    },
    {
      "cell_type": "code",
      "source": [
        "df1[df1['adults']+df1['babies']+df1['children'] == 0].shape"
      ],
      "metadata": {
        "id": "o4k8Wz-ih6lt",
        "colab": {
          "base_uri": "https://localhost:8080/"
        },
        "outputId": "5de70778-3d23-4b6a-ea6b-b0ba476dab89"
      },
      "execution_count": 25,
      "outputs": [
        {
          "output_type": "execute_result",
          "data": {
            "text/plain": [
              "(0, 32)"
            ]
          },
          "metadata": {},
          "execution_count": 25
        }
      ]
    },
    {
      "cell_type": "code",
      "source": [
        "df1.drop(df1[df1['adults']+df1['babies']+df1['children'] == 0].index, inplace = True)"
      ],
      "metadata": {
        "id": "zwCjiLP9iApp"
      },
      "execution_count": 26,
      "outputs": []
    },
    {
      "cell_type": "markdown",
      "source": [
        "### <b> Step 3: Converting columns to appropriate datatypes. </b>"
      ],
      "metadata": {
        "id": "yhoku2ytUsQ8"
      }
    },
    {
      "cell_type": "code",
      "source": [
        "# Converting datatype of columns 'children', 'company' and 'agent' from float to int.\n",
        "df1[['children', 'company', 'agent']] = df1[['children', 'company', 'agent']].astype('int64')\n"
      ],
      "metadata": {
        "id": "0sVsZRZhUnab"
      },
      "execution_count": 27,
      "outputs": []
    },
    {
      "cell_type": "code",
      "source": [
        "# changing datatype of column 'reservation_status_date' to data_type.\n",
        "df1['reservation_status_date'] = pd.to_datetime(df1['reservation_status_date'], format = '%Y-%m-%d')"
      ],
      "metadata": {
        "id": "wFjq_FVXV6Br"
      },
      "execution_count": 28,
      "outputs": []
    },
    {
      "cell_type": "markdown",
      "source": [
        "### <b> Step 4: Adding important columns. </b>"
      ],
      "metadata": {
        "id": "7oFW8dNw0Z6b"
      }
    },
    {
      "cell_type": "code",
      "source": [
        "# Adding total staying days in hotels\n",
        "df1['total_stay'] = df1['stays_in_weekend_nights']+df1['stays_in_week_nights']\n",
        "\n",
        "# Adding total people num as column, i.e. total people num = num of adults + children + babies\n",
        "df1['total_people'] = df1['adults']+df1['children']+df1['babies']"
      ],
      "metadata": {
        "id": "FWUDJp-5imPZ"
      },
      "execution_count": 29,
      "outputs": []
    },
    {
      "cell_type": "markdown",
      "source": [
        "### What did you know about your dataset?"
      ],
      "metadata": {
        "id": "H0kj-8xxnORC"
      }
    },
    {
      "cell_type": "markdown",
      "source": [
        "Dataset Description:\n",
        "hotel: Name of hotel ( City or Resort).\n",
        "\n",
        "is_canceled: Whether the booking is canceled or not (0 for\n",
        "no canceled and 1 for canceled).\n",
        "\n",
        "lead_time: time (in days) between booking transaction and * actual arrival.\n",
        "\n",
        "arrival_date_year: Year of arrival\n",
        "\n",
        "arrival_date_month: month of arrival.\n",
        "\n",
        "arrival_date_week_number: week number of arrival date.\n",
        "\n",
        "arrival_date_day_of_month: Day of month of arrival date.\n",
        "\n",
        "stays_in_weekend_nights: No. of weekend nights spent in a hotel.\n",
        "\n",
        "stays_in_week_nights: No. of weeknights spent in a hotel.\n",
        "\n",
        "adults: No. of adults in single booking record.\n",
        "\n",
        "children: No. of children in single booking record.\n",
        "\n",
        "babies: No. of babies in single booking record.\n",
        "\n",
        "meal: Type of meal chosen.\n",
        "\n",
        "country: Country of origin of customers (as mentioned by them).\n",
        "\n",
        "market_segment: What segment via booking was made and for what purpose.\n",
        "\n",
        "distribution_channel: Via which medium booking was made.\n",
        "\n",
        "is_repeated_guest: Whether the customer has made any booking before(0 for No and 1 for Yes).\n",
        "\n",
        "previous_cancellations: No. of previous canceled bookings.\n",
        "\n",
        "previous_bookings_not_canceled: No. of previous non-canceled bookings.\n",
        "\n",
        "reserved_room_type: Room type reserved by a customer.\n",
        "\n",
        "assigned_room_type: Room type assigned to the customer.\n",
        "\n",
        "booking_changes: No. of booking changes done by customers.\n",
        "\n",
        "deposit_type: Type of deposit at the time of making a\n",
        "booking (No deposit/ Refundable/ No refund).\n",
        "\n",
        "agent: Id of agent for booking.\n",
        "\n",
        "company: Id of the company making a booking.\n",
        "\n",
        "days_in_waiting_list: No. of days on waiting list.\n",
        "\n",
        "customer_type: Type of customer(Transient, Group, etc.)\n",
        "\n",
        "adr: Average Daily rate.\n",
        "\n",
        "required_car_parking_spaces: No. of car parking asked in booking.\n",
        "\n",
        "total_of_special_requests: total no. of special request.\n",
        "\n",
        "reservation_status: Whether a customer has checked out or canceled,or not showed.\n",
        "\n",
        "reservation_status_date: Date of making reservation status.\n",
        "\n",
        "\n"
      ],
      "metadata": {
        "id": "gfoNAAC-nUe_"
      }
    },
    {
      "cell_type": "markdown",
      "source": [
        "## ***2. Understanding our Variables***"
      ],
      "metadata": {
        "id": "nA9Y7ga8ng1Z"
      }
    },
    {
      "cell_type": "code",
      "source": [
        "# Dataset Columns\n",
        "hotel_booking_df.columns"
      ],
      "metadata": {
        "id": "j7xfkqrt5Ag5",
        "colab": {
          "base_uri": "https://localhost:8080/"
        },
        "outputId": "24306098-b755-4c57-b8b7-5198f0ed52d0"
      },
      "execution_count": 30,
      "outputs": [
        {
          "output_type": "execute_result",
          "data": {
            "text/plain": [
              "Index(['hotel', 'is_canceled', 'lead_time', 'arrival_date_year',\n",
              "       'arrival_date_month', 'arrival_date_week_number',\n",
              "       'arrival_date_day_of_month', 'stays_in_weekend_nights',\n",
              "       'stays_in_week_nights', 'adults', 'children', 'babies', 'meal',\n",
              "       'country', 'market_segment', 'distribution_channel',\n",
              "       'is_repeated_guest', 'previous_cancellations',\n",
              "       'previous_bookings_not_canceled', 'reserved_room_type',\n",
              "       'assigned_room_type', 'booking_changes', 'deposit_type', 'agent',\n",
              "       'company', 'days_in_waiting_list', 'customer_type', 'adr',\n",
              "       'required_car_parking_spaces', 'total_of_special_requests',\n",
              "       'reservation_status', 'reservation_status_date'],\n",
              "      dtype='object')"
            ]
          },
          "metadata": {},
          "execution_count": 30
        }
      ]
    },
    {
      "cell_type": "markdown",
      "source": [],
      "metadata": {
        "id": "Jakw5f-EjilI"
      }
    },
    {
      "cell_type": "code",
      "source": [
        "# Dataset Describe\n",
        "hotel_booking_df.describe()"
      ],
      "metadata": {
        "id": "DnOaZdaE5Q5t",
        "colab": {
          "base_uri": "https://localhost:8080/",
          "height": 364
        },
        "outputId": "b5372e54-ff38-4fbb-aeeb-bf673d5fa7ce"
      },
      "execution_count": 31,
      "outputs": [
        {
          "output_type": "execute_result",
          "data": {
            "text/plain": [
              "        is_canceled     lead_time  arrival_date_year  \\\n",
              "count  36150.000000  36150.000000       36150.000000   \n",
              "mean       0.233333     80.566943        2016.072697   \n",
              "std        0.422958     90.285574           0.749873   \n",
              "min        0.000000      0.000000        2015.000000   \n",
              "25%        0.000000      7.000000        2016.000000   \n",
              "50%        0.000000     44.000000        2016.000000   \n",
              "75%        0.000000    131.000000        2017.000000   \n",
              "max        1.000000    737.000000        2017.000000   \n",
              "\n",
              "       arrival_date_week_number  arrival_date_day_of_month  \\\n",
              "count              36150.000000               36150.000000   \n",
              "mean                  27.619004                  15.822960   \n",
              "std                   13.527243                   8.836873   \n",
              "min                    1.000000                   1.000000   \n",
              "25%                   17.000000                   8.000000   \n",
              "50%                   29.000000                  16.000000   \n",
              "75%                   37.000000                  23.000000   \n",
              "max                   53.000000                  31.000000   \n",
              "\n",
              "       stays_in_weekend_nights  stays_in_week_nights        adults  \\\n",
              "count             36150.000000          36150.000000  36150.000000   \n",
              "mean                  1.191037              3.121770      1.869488   \n",
              "std                   1.154509              2.462667      0.725371   \n",
              "min                   0.000000              0.000000      0.000000   \n",
              "25%                   0.000000              1.000000      2.000000   \n",
              "50%                   1.000000              3.000000      2.000000   \n",
              "75%                   2.000000              5.000000      2.000000   \n",
              "max                  19.000000             50.000000     55.000000   \n",
              "\n",
              "           children        babies  is_repeated_guest  previous_cancellations  \\\n",
              "count  36146.000000  36150.000000       36150.000000            36150.000000   \n",
              "mean       0.146489      0.015989           0.047220                0.020664   \n",
              "std        0.473019      0.127404           0.212112                0.352101   \n",
              "min        0.000000      0.000000           0.000000                0.000000   \n",
              "25%        0.000000      0.000000           0.000000                0.000000   \n",
              "50%        0.000000      0.000000           0.000000                0.000000   \n",
              "75%        0.000000      0.000000           0.000000                0.000000   \n",
              "max       10.000000      2.000000           1.000000               26.000000   \n",
              "\n",
              "       previous_bookings_not_canceled  booking_changes         agent  \\\n",
              "count                    36150.000000     36149.000000  29216.000000   \n",
              "mean                         0.161798         0.308169    205.555483   \n",
              "std                          1.053372         0.758869     95.422175   \n",
              "min                          0.000000         0.000000      1.000000   \n",
              "25%                          0.000000         0.000000    184.000000   \n",
              "50%                          0.000000         0.000000    240.000000   \n",
              "75%                          0.000000         0.000000    241.000000   \n",
              "max                         30.000000        20.000000    535.000000   \n",
              "\n",
              "           company  days_in_waiting_list           adr  \\\n",
              "count  2589.000000          36149.000000  36149.000000   \n",
              "mean    226.141367              0.323937     98.397739   \n",
              "std     129.749012              5.809898     62.479725   \n",
              "min       6.000000              0.000000     -6.380000   \n",
              "25%     113.000000              0.000000     52.800000   \n",
              "50%     223.000000              0.000000     80.000000   \n",
              "75%     307.000000              0.000000    131.400000   \n",
              "max     543.000000            185.000000    508.000000   \n",
              "\n",
              "       required_car_parking_spaces  total_of_special_requests  \n",
              "count                 36149.000000               36149.000000  \n",
              "mean                      0.152646                   0.678221  \n",
              "std                       0.366055                   0.830145  \n",
              "min                       0.000000                   0.000000  \n",
              "25%                       0.000000                   0.000000  \n",
              "50%                       0.000000                   0.000000  \n",
              "75%                       0.000000                   1.000000  \n",
              "max                       8.000000                   5.000000  "
            ],
            "text/html": [
              "\n",
              "  <div id=\"df-d90a16ef-c5b3-4f92-9bc2-0b47da1283f4\">\n",
              "    <div class=\"colab-df-container\">\n",
              "      <div>\n",
              "<style scoped>\n",
              "    .dataframe tbody tr th:only-of-type {\n",
              "        vertical-align: middle;\n",
              "    }\n",
              "\n",
              "    .dataframe tbody tr th {\n",
              "        vertical-align: top;\n",
              "    }\n",
              "\n",
              "    .dataframe thead th {\n",
              "        text-align: right;\n",
              "    }\n",
              "</style>\n",
              "<table border=\"1\" class=\"dataframe\">\n",
              "  <thead>\n",
              "    <tr style=\"text-align: right;\">\n",
              "      <th></th>\n",
              "      <th>is_canceled</th>\n",
              "      <th>lead_time</th>\n",
              "      <th>arrival_date_year</th>\n",
              "      <th>arrival_date_week_number</th>\n",
              "      <th>arrival_date_day_of_month</th>\n",
              "      <th>stays_in_weekend_nights</th>\n",
              "      <th>stays_in_week_nights</th>\n",
              "      <th>adults</th>\n",
              "      <th>children</th>\n",
              "      <th>babies</th>\n",
              "      <th>is_repeated_guest</th>\n",
              "      <th>previous_cancellations</th>\n",
              "      <th>previous_bookings_not_canceled</th>\n",
              "      <th>booking_changes</th>\n",
              "      <th>agent</th>\n",
              "      <th>company</th>\n",
              "      <th>days_in_waiting_list</th>\n",
              "      <th>adr</th>\n",
              "      <th>required_car_parking_spaces</th>\n",
              "      <th>total_of_special_requests</th>\n",
              "    </tr>\n",
              "  </thead>\n",
              "  <tbody>\n",
              "    <tr>\n",
              "      <th>count</th>\n",
              "      <td>36150.000000</td>\n",
              "      <td>36150.000000</td>\n",
              "      <td>36150.000000</td>\n",
              "      <td>36150.000000</td>\n",
              "      <td>36150.000000</td>\n",
              "      <td>36150.000000</td>\n",
              "      <td>36150.000000</td>\n",
              "      <td>36150.000000</td>\n",
              "      <td>36146.000000</td>\n",
              "      <td>36150.000000</td>\n",
              "      <td>36150.000000</td>\n",
              "      <td>36150.000000</td>\n",
              "      <td>36150.000000</td>\n",
              "      <td>36149.000000</td>\n",
              "      <td>29216.000000</td>\n",
              "      <td>2589.000000</td>\n",
              "      <td>36149.000000</td>\n",
              "      <td>36149.000000</td>\n",
              "      <td>36149.000000</td>\n",
              "      <td>36149.000000</td>\n",
              "    </tr>\n",
              "    <tr>\n",
              "      <th>mean</th>\n",
              "      <td>0.233333</td>\n",
              "      <td>80.566943</td>\n",
              "      <td>2016.072697</td>\n",
              "      <td>27.619004</td>\n",
              "      <td>15.822960</td>\n",
              "      <td>1.191037</td>\n",
              "      <td>3.121770</td>\n",
              "      <td>1.869488</td>\n",
              "      <td>0.146489</td>\n",
              "      <td>0.015989</td>\n",
              "      <td>0.047220</td>\n",
              "      <td>0.020664</td>\n",
              "      <td>0.161798</td>\n",
              "      <td>0.308169</td>\n",
              "      <td>205.555483</td>\n",
              "      <td>226.141367</td>\n",
              "      <td>0.323937</td>\n",
              "      <td>98.397739</td>\n",
              "      <td>0.152646</td>\n",
              "      <td>0.678221</td>\n",
              "    </tr>\n",
              "    <tr>\n",
              "      <th>std</th>\n",
              "      <td>0.422958</td>\n",
              "      <td>90.285574</td>\n",
              "      <td>0.749873</td>\n",
              "      <td>13.527243</td>\n",
              "      <td>8.836873</td>\n",
              "      <td>1.154509</td>\n",
              "      <td>2.462667</td>\n",
              "      <td>0.725371</td>\n",
              "      <td>0.473019</td>\n",
              "      <td>0.127404</td>\n",
              "      <td>0.212112</td>\n",
              "      <td>0.352101</td>\n",
              "      <td>1.053372</td>\n",
              "      <td>0.758869</td>\n",
              "      <td>95.422175</td>\n",
              "      <td>129.749012</td>\n",
              "      <td>5.809898</td>\n",
              "      <td>62.479725</td>\n",
              "      <td>0.366055</td>\n",
              "      <td>0.830145</td>\n",
              "    </tr>\n",
              "    <tr>\n",
              "      <th>min</th>\n",
              "      <td>0.000000</td>\n",
              "      <td>0.000000</td>\n",
              "      <td>2015.000000</td>\n",
              "      <td>1.000000</td>\n",
              "      <td>1.000000</td>\n",
              "      <td>0.000000</td>\n",
              "      <td>0.000000</td>\n",
              "      <td>0.000000</td>\n",
              "      <td>0.000000</td>\n",
              "      <td>0.000000</td>\n",
              "      <td>0.000000</td>\n",
              "      <td>0.000000</td>\n",
              "      <td>0.000000</td>\n",
              "      <td>0.000000</td>\n",
              "      <td>1.000000</td>\n",
              "      <td>6.000000</td>\n",
              "      <td>0.000000</td>\n",
              "      <td>-6.380000</td>\n",
              "      <td>0.000000</td>\n",
              "      <td>0.000000</td>\n",
              "    </tr>\n",
              "    <tr>\n",
              "      <th>25%</th>\n",
              "      <td>0.000000</td>\n",
              "      <td>7.000000</td>\n",
              "      <td>2016.000000</td>\n",
              "      <td>17.000000</td>\n",
              "      <td>8.000000</td>\n",
              "      <td>0.000000</td>\n",
              "      <td>1.000000</td>\n",
              "      <td>2.000000</td>\n",
              "      <td>0.000000</td>\n",
              "      <td>0.000000</td>\n",
              "      <td>0.000000</td>\n",
              "      <td>0.000000</td>\n",
              "      <td>0.000000</td>\n",
              "      <td>0.000000</td>\n",
              "      <td>184.000000</td>\n",
              "      <td>113.000000</td>\n",
              "      <td>0.000000</td>\n",
              "      <td>52.800000</td>\n",
              "      <td>0.000000</td>\n",
              "      <td>0.000000</td>\n",
              "    </tr>\n",
              "    <tr>\n",
              "      <th>50%</th>\n",
              "      <td>0.000000</td>\n",
              "      <td>44.000000</td>\n",
              "      <td>2016.000000</td>\n",
              "      <td>29.000000</td>\n",
              "      <td>16.000000</td>\n",
              "      <td>1.000000</td>\n",
              "      <td>3.000000</td>\n",
              "      <td>2.000000</td>\n",
              "      <td>0.000000</td>\n",
              "      <td>0.000000</td>\n",
              "      <td>0.000000</td>\n",
              "      <td>0.000000</td>\n",
              "      <td>0.000000</td>\n",
              "      <td>0.000000</td>\n",
              "      <td>240.000000</td>\n",
              "      <td>223.000000</td>\n",
              "      <td>0.000000</td>\n",
              "      <td>80.000000</td>\n",
              "      <td>0.000000</td>\n",
              "      <td>0.000000</td>\n",
              "    </tr>\n",
              "    <tr>\n",
              "      <th>75%</th>\n",
              "      <td>0.000000</td>\n",
              "      <td>131.000000</td>\n",
              "      <td>2017.000000</td>\n",
              "      <td>37.000000</td>\n",
              "      <td>23.000000</td>\n",
              "      <td>2.000000</td>\n",
              "      <td>5.000000</td>\n",
              "      <td>2.000000</td>\n",
              "      <td>0.000000</td>\n",
              "      <td>0.000000</td>\n",
              "      <td>0.000000</td>\n",
              "      <td>0.000000</td>\n",
              "      <td>0.000000</td>\n",
              "      <td>0.000000</td>\n",
              "      <td>241.000000</td>\n",
              "      <td>307.000000</td>\n",
              "      <td>0.000000</td>\n",
              "      <td>131.400000</td>\n",
              "      <td>0.000000</td>\n",
              "      <td>1.000000</td>\n",
              "    </tr>\n",
              "    <tr>\n",
              "      <th>max</th>\n",
              "      <td>1.000000</td>\n",
              "      <td>737.000000</td>\n",
              "      <td>2017.000000</td>\n",
              "      <td>53.000000</td>\n",
              "      <td>31.000000</td>\n",
              "      <td>19.000000</td>\n",
              "      <td>50.000000</td>\n",
              "      <td>55.000000</td>\n",
              "      <td>10.000000</td>\n",
              "      <td>2.000000</td>\n",
              "      <td>1.000000</td>\n",
              "      <td>26.000000</td>\n",
              "      <td>30.000000</td>\n",
              "      <td>20.000000</td>\n",
              "      <td>535.000000</td>\n",
              "      <td>543.000000</td>\n",
              "      <td>185.000000</td>\n",
              "      <td>508.000000</td>\n",
              "      <td>8.000000</td>\n",
              "      <td>5.000000</td>\n",
              "    </tr>\n",
              "  </tbody>\n",
              "</table>\n",
              "</div>\n",
              "      <button class=\"colab-df-convert\" onclick=\"convertToInteractive('df-d90a16ef-c5b3-4f92-9bc2-0b47da1283f4')\"\n",
              "              title=\"Convert this dataframe to an interactive table.\"\n",
              "              style=\"display:none;\">\n",
              "        \n",
              "  <svg xmlns=\"http://www.w3.org/2000/svg\" height=\"24px\"viewBox=\"0 0 24 24\"\n",
              "       width=\"24px\">\n",
              "    <path d=\"M0 0h24v24H0V0z\" fill=\"none\"/>\n",
              "    <path d=\"M18.56 5.44l.94 2.06.94-2.06 2.06-.94-2.06-.94-.94-2.06-.94 2.06-2.06.94zm-11 1L8.5 8.5l.94-2.06 2.06-.94-2.06-.94L8.5 2.5l-.94 2.06-2.06.94zm10 10l.94 2.06.94-2.06 2.06-.94-2.06-.94-.94-2.06-.94 2.06-2.06.94z\"/><path d=\"M17.41 7.96l-1.37-1.37c-.4-.4-.92-.59-1.43-.59-.52 0-1.04.2-1.43.59L10.3 9.45l-7.72 7.72c-.78.78-.78 2.05 0 2.83L4 21.41c.39.39.9.59 1.41.59.51 0 1.02-.2 1.41-.59l7.78-7.78 2.81-2.81c.8-.78.8-2.07 0-2.86zM5.41 20L4 18.59l7.72-7.72 1.47 1.35L5.41 20z\"/>\n",
              "  </svg>\n",
              "      </button>\n",
              "      \n",
              "  <style>\n",
              "    .colab-df-container {\n",
              "      display:flex;\n",
              "      flex-wrap:wrap;\n",
              "      gap: 12px;\n",
              "    }\n",
              "\n",
              "    .colab-df-convert {\n",
              "      background-color: #E8F0FE;\n",
              "      border: none;\n",
              "      border-radius: 50%;\n",
              "      cursor: pointer;\n",
              "      display: none;\n",
              "      fill: #1967D2;\n",
              "      height: 32px;\n",
              "      padding: 0 0 0 0;\n",
              "      width: 32px;\n",
              "    }\n",
              "\n",
              "    .colab-df-convert:hover {\n",
              "      background-color: #E2EBFA;\n",
              "      box-shadow: 0px 1px 2px rgba(60, 64, 67, 0.3), 0px 1px 3px 1px rgba(60, 64, 67, 0.15);\n",
              "      fill: #174EA6;\n",
              "    }\n",
              "\n",
              "    [theme=dark] .colab-df-convert {\n",
              "      background-color: #3B4455;\n",
              "      fill: #D2E3FC;\n",
              "    }\n",
              "\n",
              "    [theme=dark] .colab-df-convert:hover {\n",
              "      background-color: #434B5C;\n",
              "      box-shadow: 0px 1px 3px 1px rgba(0, 0, 0, 0.15);\n",
              "      filter: drop-shadow(0px 1px 2px rgba(0, 0, 0, 0.3));\n",
              "      fill: #FFFFFF;\n",
              "    }\n",
              "  </style>\n",
              "\n",
              "      <script>\n",
              "        const buttonEl =\n",
              "          document.querySelector('#df-d90a16ef-c5b3-4f92-9bc2-0b47da1283f4 button.colab-df-convert');\n",
              "        buttonEl.style.display =\n",
              "          google.colab.kernel.accessAllowed ? 'block' : 'none';\n",
              "\n",
              "        async function convertToInteractive(key) {\n",
              "          const element = document.querySelector('#df-d90a16ef-c5b3-4f92-9bc2-0b47da1283f4');\n",
              "          const dataTable =\n",
              "            await google.colab.kernel.invokeFunction('convertToInteractive',\n",
              "                                                     [key], {});\n",
              "          if (!dataTable) return;\n",
              "\n",
              "          const docLinkHtml = 'Like what you see? Visit the ' +\n",
              "            '<a target=\"_blank\" href=https://colab.research.google.com/notebooks/data_table.ipynb>data table notebook</a>'\n",
              "            + ' to learn more about interactive tables.';\n",
              "          element.innerHTML = '';\n",
              "          dataTable['output_type'] = 'display_data';\n",
              "          await google.colab.output.renderOutput(dataTable, element);\n",
              "          const docLink = document.createElement('div');\n",
              "          docLink.innerHTML = docLinkHtml;\n",
              "          element.appendChild(docLink);\n",
              "        }\n",
              "      </script>\n",
              "    </div>\n",
              "  </div>\n",
              "  "
            ]
          },
          "metadata": {},
          "execution_count": 31
        }
      ]
    },
    {
      "cell_type": "markdown",
      "source": [
        "### Variables Description "
      ],
      "metadata": {
        "id": "PBTbrJXOngz2"
      }
    },
    {
      "cell_type": "markdown",
      "source": [
        "1.first we understand the nature of dataset then take a variable called hotel_booking_df and apply a .columns property which returns the label of each column in the DataFrame were it fecthing all the csv data called hotel bookings and give output in the form of columns.\n",
        "\n",
        "2.in other dataset we are using same variable known as hotel_booking_df and using .describe() method which returns description of the data in the DataFrame and it fecting all the csv data which is hotel bookings so that it give output in descriptive way."
      ],
      "metadata": {
        "id": "aJV4KIxSnxay"
      }
    },
    {
      "cell_type": "markdown",
      "source": [
        "### Check Unique Values for each variable."
      ],
      "metadata": {
        "id": "u3PMJOP6ngxN"
      }
    },
    {
      "cell_type": "code",
      "source": [
        "# Check Unique Values for each variable.\n",
        "df1['hotel'].unique()"
      ],
      "metadata": {
        "id": "zms12Yq5n-jE",
        "colab": {
          "base_uri": "https://localhost:8080/"
        },
        "outputId": "d4b97268-be55-412a-c7b8-3e712c4a1d6d"
      },
      "execution_count": 32,
      "outputs": [
        {
          "output_type": "execute_result",
          "data": {
            "text/plain": [
              "array(['Resort Hotel', 'City Hotel'], dtype=object)"
            ]
          },
          "metadata": {},
          "execution_count": 32
        }
      ]
    },
    {
      "cell_type": "code",
      "source": [
        "df1['is_canceled'].unique()"
      ],
      "metadata": {
        "id": "npHqbS8qkHY1",
        "colab": {
          "base_uri": "https://localhost:8080/"
        },
        "outputId": "1a8fece6-44db-4975-9129-35ef96d10021"
      },
      "execution_count": 33,
      "outputs": [
        {
          "output_type": "execute_result",
          "data": {
            "text/plain": [
              "array([0, 1])"
            ]
          },
          "metadata": {},
          "execution_count": 33
        }
      ]
    },
    {
      "cell_type": "code",
      "source": [
        "df1['arrival_date_year'].unique()"
      ],
      "metadata": {
        "id": "S1k7rfi_kMO2",
        "colab": {
          "base_uri": "https://localhost:8080/"
        },
        "outputId": "2a738c21-ca43-4348-c6f8-a379f4389fdc"
      },
      "execution_count": 34,
      "outputs": [
        {
          "output_type": "execute_result",
          "data": {
            "text/plain": [
              "array([2015, 2016, 2017])"
            ]
          },
          "metadata": {},
          "execution_count": 34
        }
      ]
    },
    {
      "cell_type": "code",
      "source": [
        "df1['meal'].unique()"
      ],
      "metadata": {
        "id": "89luAiGrkMSC",
        "colab": {
          "base_uri": "https://localhost:8080/"
        },
        "outputId": "701bbaab-bcb4-4444-c73a-03ef353f0d3f"
      },
      "execution_count": 35,
      "outputs": [
        {
          "output_type": "execute_result",
          "data": {
            "text/plain": [
              "array(['BB', 'FB', 'HB', 'SC', 'Undefined'], dtype=object)"
            ]
          },
          "metadata": {},
          "execution_count": 35
        }
      ]
    },
    {
      "cell_type": "code",
      "source": [
        "df1['market_segment'].unique()"
      ],
      "metadata": {
        "id": "1wrsNvUTkMV5",
        "colab": {
          "base_uri": "https://localhost:8080/"
        },
        "outputId": "8ab25862-5937-4bd0-cc26-417d8be23269"
      },
      "execution_count": 36,
      "outputs": [
        {
          "output_type": "execute_result",
          "data": {
            "text/plain": [
              "array(['Direct', 'Corporate', 'Online TA', 'Offline TA/TO',\n",
              "       'Complementary', 'Groups', 'Undefined'], dtype=object)"
            ]
          },
          "metadata": {},
          "execution_count": 36
        }
      ]
    },
    {
      "cell_type": "code",
      "source": [
        "df1['distribution_channel'].unique()"
      ],
      "metadata": {
        "id": "KDWBMnBrkMaV",
        "colab": {
          "base_uri": "https://localhost:8080/"
        },
        "outputId": "f30b37e6-5988-41f2-8469-cd9cab064302"
      },
      "execution_count": 37,
      "outputs": [
        {
          "output_type": "execute_result",
          "data": {
            "text/plain": [
              "array(['Direct', 'Corporate', 'TA/TO', 'Undefined', 'GDS'], dtype=object)"
            ]
          },
          "metadata": {},
          "execution_count": 37
        }
      ]
    },
    {
      "cell_type": "code",
      "source": [
        "df1['children'].unique()    # This column has 0 as well as null values"
      ],
      "metadata": {
        "id": "eqolu7t-kjlf",
        "colab": {
          "base_uri": "https://localhost:8080/"
        },
        "outputId": "5b4dc6ac-a40e-403c-847c-7f6227650ffc"
      },
      "execution_count": 38,
      "outputs": [
        {
          "output_type": "execute_result",
          "data": {
            "text/plain": [
              "array([ 0,  1,  2, 10,  3])"
            ]
          },
          "metadata": {},
          "execution_count": 38
        }
      ]
    },
    {
      "cell_type": "markdown",
      "source": [
        ":## 3. ***Data Wrangling***"
      ],
      "metadata": {
        "id": "dauF4eBmngu3"
      }
    },
    {
      "cell_type": "markdown",
      "source": [
        "### Data Wrangling Code"
      ],
      "metadata": {
        "id": "bKJF3rekwFvQ"
      }
    },
    {
      "cell_type": "code",
      "source": [
        "# Write your code to make your dataset analysis ready."
      ],
      "metadata": {
        "id": "4bkE3efM2X-w"
      },
      "execution_count": 39,
      "outputs": []
    },
    {
      "cell_type": "markdown",
      "source": [
        "# **Q1.Which agent makes most no. of bookings?**"
      ],
      "metadata": {
        "id": "il4BdfK3Rl1R"
      }
    },
    {
      "cell_type": "code",
      "source": [
        "d1 = pd.DataFrame(hotel_booking_df['agent'].value_counts()).reset_index().rename(columns = {'index':'agent','agent':'num_of_bookings'}).sort_values(by = 'num_of_bookings', ascending = False)\n",
        "d1.drop(d1[d1['agent'] == 0].index, inplace = True)            # 0 represents that booking is not made by an agent\n",
        "d1 = d1[:10]                                                   # Selecting top 10 performing agents\n",
        "plt.figure(figsize = (10,5))\n",
        "sns.barplot(x = 'agent', y = 'num_of_bookings', data = d1, order = d1.sort_values('num_of_bookings', ascending = False).agent)"
      ],
      "metadata": {
        "id": "HyJgo_izn_cS",
        "colab": {
          "base_uri": "https://localhost:8080/",
          "height": 351
        },
        "outputId": "6152cba8-6125-46d3-c97d-5c6f95e44f79"
      },
      "execution_count": 40,
      "outputs": [
        {
          "output_type": "execute_result",
          "data": {
            "text/plain": [
              "<matplotlib.axes._subplots.AxesSubplot at 0x7fcf510d74f0>"
            ]
          },
          "metadata": {},
          "execution_count": 40
        },
        {
          "output_type": "display_data",
          "data": {
            "text/plain": [
              "<Figure size 720x360 with 1 Axes>"
            ],
            "image/png": "[encoded data removed]"
          },
          "metadata": {
            "needs_background": "light"
          }
        }
      ]
    },
    {
      "cell_type": "markdown",
      "source": [
        " ***Agent no. 9 has made most no. of bookings.***"
      ],
      "metadata": {
        "id": "zrbnhBMe3E2r"
      }
    },
    {
      "cell_type": "markdown",
      "source": [
        "# **Q2.Which meal type is most preffered meal of customers?**\n",
        "\n"
      ],
      "metadata": {
        "id": "v-mSSZhW4NDi"
      }
    },
    {
      "cell_type": "code",
      "source": [
        "plt.figure( figsize=(10, 8))\n",
        "\n",
        "sns.countplot(x = hotel_booking_df['meal'])\n",
        "plt.show()"
      ],
      "metadata": {
        "id": "PI7nvaOioSvX",
        "colab": {
          "base_uri": "https://localhost:8080/",
          "height": 497
        },
        "outputId": "c3057a89-abdd-4718-b8e0-5e1d60598c24"
      },
      "execution_count": 41,
      "outputs": [
        {
          "output_type": "display_data",
          "data": {
            "text/plain": [
              "<Figure size 720x576 with 1 Axes>"
            ],
            "image/png": "[encoded data removed]"
          },
          "metadata": {
            "needs_background": "light"
          }
        }
      ]
    },
    {
      "cell_type": "markdown",
      "source": [
        "***BB (bed and breakfast) is the most prefered type of meal in hotel.***  "
      ],
      "metadata": {
        "id": "Pg448lAZ43uy"
      }
    },
    {
      "cell_type": "markdown",
      "source": [
        "# **Q3.Which is the most common channel for booking hotels?**"
      ],
      "metadata": {
        "id": "Xmh-ijvyhY_J"
      }
    },
    {
      "cell_type": "code",
      "source": [
        "group_by_dc = df1.groupby('distribution_channel')\n",
        "d1 = pd.DataFrame(round((group_by_dc.size()/df1.shape[0])*100,2)).reset_index().rename(columns = {0: 'Booking_%'})\n",
        "plt.figure(figsize = (8,8))\n",
        "data = d1['Booking_%']\n",
        "labels = d1['distribution_channel']\n",
        "plt.pie(x=data, autopct=\"%.2f%%\", explode=[0.05]*5, labels=labels, pctdistance=0.5)\n",
        "plt.title(\"Booking % by distribution channels\", fontsize=14);"
      ],
      "metadata": {
        "id": "SChKNQzhhV_K",
        "colab": {
          "base_uri": "https://localhost:8080/",
          "height": 483
        },
        "outputId": "8c5f4804-d89b-49fe-f5a0-148b71fd11aa"
      },
      "execution_count": 42,
      "outputs": [
        {
          "output_type": "display_data",
          "data": {
            "text/plain": [
              "<Figure size 576x576 with 1 Axes>"
            ],
            "image/png": "[encoded data removed]"
          },
          "metadata": {}
        }
      ]
    },
    {
      "cell_type": "markdown",
      "source": [
        "***TA/TO is the most common channel for booking hotels.***"
      ],
      "metadata": {
        "id": "XAyuxMnaoMuv"
      }
    },
    {
      "cell_type": "markdown",
      "source": [
        "# **Q4.What is preffered stay in each hotel?**\n",
        "\n",
        "\n",
        "\n"
      ],
      "metadata": {
        "id": "GPrAfwjwoICW"
      }
    },
    {
      "cell_type": "code",
      "source": [
        "not_canceled = df1[df1['is_canceled'] == 0]\n",
        "s1 = not_canceled[not_canceled['total_stay'] < 15]\n",
        "plt.figure(figsize = (10,5))\n",
        "sns.countplot(x = s1['total_stay'], hue = s1['hotel'])\n",
        "plt.show()"
      ],
      "metadata": {
        "colab": {
          "base_uri": "https://localhost:8080/",
          "height": 335
        },
        "id": "zUf6PrYNiMfm",
        "outputId": "66b30757-91dd-4b49-d8e6-54ea04e9490b"
      },
      "execution_count": 43,
      "outputs": [
        {
          "output_type": "display_data",
          "data": {
            "text/plain": [
              "<Figure size 720x360 with 1 Axes>"
            ],
            "image/png": "[encoded data removed]"
          },
          "metadata": {
            "needs_background": "light"
          }
        }
      ]
    },
    {
      "cell_type": "markdown",
      "source": [
        "**Most common stay length is less than 4 days and generally people prefer City hotel for short stay, but for long stays, Resort Hotel is preferred.**"
      ],
      "metadata": {
        "id": "VqUF1ijpjuXV"
      }
    },
    {
      "cell_type": "markdown",
      "source": [
        "# **Q5.What is percentage of bookings in each hotel?**\n"
      ],
      "metadata": {
        "id": "N5QrdY38piR8"
      }
    },
    {
      "cell_type": "code",
      "source": [
        "grouped_by_hotel = df1.groupby('hotel')\n",
        "d1 = pd.DataFrame((grouped_by_hotel.size()/df1.shape[0])*100).reset_index().rename(columns = {0:'Booking %'})      #Calculating percentage\n",
        "plt.figure(figsize = (8,5))\n",
        "sns.barplot(x = d1['hotel'], y = d1['Booking %'] )\n",
        "plt.show()"
      ],
      "metadata": {
        "id": "kgjTDTBQp4Oc",
        "colab": {
          "base_uri": "https://localhost:8080/",
          "height": 334
        },
        "outputId": "626fd546-64d1-4436-d53f-e2c67b43dc11"
      },
      "execution_count": 44,
      "outputs": [
        {
          "output_type": "display_data",
          "data": {
            "text/plain": [
              "<Figure size 576x360 with 1 Axes>"
            ],
            "image/png": "[encoded data removed]"
          },
          "metadata": {
            "needs_background": "light"
          }
        }
      ]
    },
    {
      "cell_type": "markdown",
      "source": [
        "***percentage of booking in City Hotel is 60% and in Resort Hotel is 40%.***"
      ],
      "metadata": {
        "id": "ETYzlEcC00wl"
      }
    },
    {
      "cell_type": "markdown",
      "source": [
        "# **Q6.Which hotel has longer waiting time?**"
      ],
      "metadata": {
        "id": "Q5dN9yJDg-Ud"
      }
    },
    {
      "cell_type": "code",
      "source": [
        "d1 = grouped_by_hotel['adr'].agg(np.mean).reset_index().rename(columns = {'adr':'avg_adr'})   # calculating average adr\n",
        "plt.figure(figsize = (8,5))\n",
        "sns.barplot(x = d1['hotel'], y = d1['avg_adr'] )\n",
        "plt.show()"
      ],
      "metadata": {
        "id": "vqaSL4XAqnOl",
        "colab": {
          "base_uri": "https://localhost:8080/",
          "height": 334
        },
        "outputId": "13d33c4a-6164-4137-8b54-2a737ebb38a9"
      },
      "execution_count": 45,
      "outputs": [
        {
          "output_type": "display_data",
          "data": {
            "text/plain": [
              "<Figure size 576x360 with 1 Axes>"
            ],
            "image/png": "[encoded data removed]"
          },
          "metadata": {
            "needs_background": "light"
          }
        }
      ]
    },
    {
      "cell_type": "markdown",
      "source": [
        "***City hotel has longer waiing time than Resort Hotel.***"
      ],
      "metadata": {
        "id": "8czryJJ-1Do0"
      }
    },
    {
      "cell_type": "markdown",
      "source": [
        "# **Q7.Which hotel has higher bookings cancellation rate?**"
      ],
      "metadata": {
        "id": "k5-avn6Xj3WJ"
      }
    },
    {
      "cell_type": "code",
      "source": [
        "# Selecting and counting number of cancelled bookings for each hotel.\n",
        "cancelled_data = df1[df1['is_canceled'] == 1]\n",
        "cancel_grp = cancelled_data.groupby('hotel')\n",
        "D1 = pd.DataFrame(cancel_grp.size()).rename(columns = {0:'total_cancelled_bookings'})\n",
        "\n",
        "# Counting total number of bookings for each type of hotel\n",
        "grouped_by_hotel = df1.groupby('hotel')\n",
        "total_booking = grouped_by_hotel.size()\n",
        "D2 = pd.DataFrame(total_booking).rename(columns = {0: 'total_bookings'})\n",
        "D3 = pd.concat([D1,D2], axis = 1)\n",
        "\n",
        "# Calculating cancel percentage \n",
        "D3['cancel_%'] = round((D3['total_cancelled_bookings']/D3['total_bookings'])*100,2)\n",
        "D3"
      ],
      "metadata": {
        "id": "Fh_MKjuMqxwl",
        "colab": {
          "base_uri": "https://localhost:8080/",
          "height": 143
        },
        "outputId": "2b3f6832-69dd-4dee-96bf-423f840b25f9"
      },
      "execution_count": 46,
      "outputs": [
        {
          "output_type": "execute_result",
          "data": {
            "text/plain": [
              "              total_cancelled_bookings  total_bookings  cancel_%\n",
              "hotel                                                           \n",
              "City Hotel                        1196            3849     31.07\n",
              "Resort Hotel                     11120           40047     27.77"
            ],
            "text/html": [
              "\n",
              "  <div id=\"df-05013835-09f3-45bf-b472-1d55ab6136b0\">\n",
              "    <div class=\"colab-df-container\">\n",
              "      <div>\n",
              "<style scoped>\n",
              "    .dataframe tbody tr th:only-of-type {\n",
              "        vertical-align: middle;\n",
              "    }\n",
              "\n",
              "    .dataframe tbody tr th {\n",
              "        vertical-align: top;\n",
              "    }\n",
              "\n",
              "    .dataframe thead th {\n",
              "        text-align: right;\n",
              "    }\n",
              "</style>\n",
              "<table border=\"1\" class=\"dataframe\">\n",
              "  <thead>\n",
              "    <tr style=\"text-align: right;\">\n",
              "      <th></th>\n",
              "      <th>total_cancelled_bookings</th>\n",
              "      <th>total_bookings</th>\n",
              "      <th>cancel_%</th>\n",
              "    </tr>\n",
              "    <tr>\n",
              "      <th>hotel</th>\n",
              "      <th></th>\n",
              "      <th></th>\n",
              "      <th></th>\n",
              "    </tr>\n",
              "  </thead>\n",
              "  <tbody>\n",
              "    <tr>\n",
              "      <th>City Hotel</th>\n",
              "      <td>1196</td>\n",
              "      <td>3849</td>\n",
              "      <td>31.07</td>\n",
              "    </tr>\n",
              "    <tr>\n",
              "      <th>Resort Hotel</th>\n",
              "      <td>11120</td>\n",
              "      <td>40047</td>\n",
              "      <td>27.77</td>\n",
              "    </tr>\n",
              "  </tbody>\n",
              "</table>\n",
              "</div>\n",
              "      <button class=\"colab-df-convert\" onclick=\"convertToInteractive('df-05013835-09f3-45bf-b472-1d55ab6136b0')\"\n",
              "              title=\"Convert this dataframe to an interactive table.\"\n",
              "              style=\"display:none;\">\n",
              "        \n",
              "  <svg xmlns=\"http://www.w3.org/2000/svg\" height=\"24px\"viewBox=\"0 0 24 24\"\n",
              "       width=\"24px\">\n",
              "    <path d=\"M0 0h24v24H0V0z\" fill=\"none\"/>\n",
              "    <path d=\"M18.56 5.44l.94 2.06.94-2.06 2.06-.94-2.06-.94-.94-2.06-.94 2.06-2.06.94zm-11 1L8.5 8.5l.94-2.06 2.06-.94-2.06-.94L8.5 2.5l-.94 2.06-2.06.94zm10 10l.94 2.06.94-2.06 2.06-.94-2.06-.94-.94-2.06-.94 2.06-2.06.94z\"/><path d=\"M17.41 7.96l-1.37-1.37c-.4-.4-.92-.59-1.43-.59-.52 0-1.04.2-1.43.59L10.3 9.45l-7.72 7.72c-.78.78-.78 2.05 0 2.83L4 21.41c.39.39.9.59 1.41.59.51 0 1.02-.2 1.41-.59l7.78-7.78 2.81-2.81c.8-.78.8-2.07 0-2.86zM5.41 20L4 18.59l7.72-7.72 1.47 1.35L5.41 20z\"/>\n",
              "  </svg>\n",
              "      </button>\n",
              "      \n",
              "  <style>\n",
              "    .colab-df-container {\n",
              "      display:flex;\n",
              "      flex-wrap:wrap;\n",
              "      gap: 12px;\n",
              "    }\n",
              "\n",
              "    .colab-df-convert {\n",
              "      background-color: #E8F0FE;\n",
              "      border: none;\n",
              "      border-radius: 50%;\n",
              "      cursor: pointer;\n",
              "      display: none;\n",
              "      fill: #1967D2;\n",
              "      height: 32px;\n",
              "      padding: 0 0 0 0;\n",
              "      width: 32px;\n",
              "    }\n",
              "\n",
              "    .colab-df-convert:hover {\n",
              "      background-color: #E2EBFA;\n",
              "      box-shadow: 0px 1px 2px rgba(60, 64, 67, 0.3), 0px 1px 3px 1px rgba(60, 64, 67, 0.15);\n",
              "      fill: #174EA6;\n",
              "    }\n",
              "\n",
              "    [theme=dark] .colab-df-convert {\n",
              "      background-color: #3B4455;\n",
              "      fill: #D2E3FC;\n",
              "    }\n",
              "\n",
              "    [theme=dark] .colab-df-convert:hover {\n",
              "      background-color: #434B5C;\n",
              "      box-shadow: 0px 1px 3px 1px rgba(0, 0, 0, 0.15);\n",
              "      filter: drop-shadow(0px 1px 2px rgba(0, 0, 0, 0.3));\n",
              "      fill: #FFFFFF;\n",
              "    }\n",
              "  </style>\n",
              "\n",
              "      <script>\n",
              "        const buttonEl =\n",
              "          document.querySelector('#df-05013835-09f3-45bf-b472-1d55ab6136b0 button.colab-df-convert');\n",
              "        buttonEl.style.display =\n",
              "          google.colab.kernel.accessAllowed ? 'block' : 'none';\n",
              "\n",
              "        async function convertToInteractive(key) {\n",
              "          const element = document.querySelector('#df-05013835-09f3-45bf-b472-1d55ab6136b0');\n",
              "          const dataTable =\n",
              "            await google.colab.kernel.invokeFunction('convertToInteractive',\n",
              "                                                     [key], {});\n",
              "          if (!dataTable) return;\n",
              "\n",
              "          const docLinkHtml = 'Like what you see? Visit the ' +\n",
              "            '<a target=\"_blank\" href=https://colab.research.google.com/notebooks/data_table.ipynb>data table notebook</a>'\n",
              "            + ' to learn more about interactive tables.';\n",
              "          element.innerHTML = '';\n",
              "          dataTable['output_type'] = 'display_data';\n",
              "          await google.colab.output.renderOutput(dataTable, element);\n",
              "          const docLink = document.createElement('div');\n",
              "          docLink.innerHTML = docLinkHtml;\n",
              "          element.appendChild(docLink);\n",
              "        }\n",
              "      </script>\n",
              "    </div>\n",
              "  </div>\n",
              "  "
            ]
          },
          "metadata": {},
          "execution_count": 46
        }
      ]
    },
    {
      "cell_type": "markdown",
      "source": [
        "***City Hotel has 30% booking cancalation rate.***"
      ],
      "metadata": {
        "id": "UGQ3Frr91QJN"
      }
    },
    {
      "cell_type": "markdown",
      "source": [
        "# **Q8.Which room type is in most demand and which room type generates highest adr?**"
      ],
      "metadata": {
        "id": "cJn-xmd_n01v"
      }
    },
    {
      "cell_type": "code",
      "source": [
        "fig, axes = plt.subplots(1, 2, figsize=(18, 8))\n",
        "\n",
        "grp_by_room = df1.groupby('assigned_room_type')\n",
        "df1['Num_of_bookings'] = grp_by_room.size()\n",
        "\n",
        "sns.countplot(ax = axes[0], x = df1['assigned_room_type'])\n",
        "sns.boxplot(ax = axes[1], x = df1['assigned_room_type'], y = df1['adr'])\n",
        "plt.show()"
      ],
      "metadata": {
        "id": "owe8o6R3rhDw",
        "colab": {
          "base_uri": "https://localhost:8080/",
          "height": 498
        },
        "outputId": "b66ad3cf-7b43-498b-9595-847a19716ed9"
      },
      "execution_count": 47,
      "outputs": [
        {
          "output_type": "display_data",
          "data": {
            "text/plain": [
              "<Figure size 1296x576 with 2 Axes>"
            ],
            "image/png": "[encoded data removed]"
          },
          "metadata": {
            "needs_background": "light"
          }
        }
      ]
    },
    {
      "cell_type": "markdown",
      "source": [
        "***Most demanded room type is A, but better adr rooms are of type H, G and C also***."
      ],
      "metadata": {
        "id": "yLmSx9eVrHxX"
      }
    },
    {
      "cell_type": "markdown",
      "source": [
        "# **Q9.From where most guests are coming?**"
      ],
      "metadata": {
        "id": "a-0e7lL5qi4Y"
      }
    },
    {
      "cell_type": "code",
      "source": [
        "country_wise_guests = df1[df1['is_canceled'] == 0]['country'].value_counts().reset_index()\n",
        "country_wise_guests.columns = ['country', 'No of guests']\n",
        "country_wise_guests"
      ],
      "metadata": {
        "id": "LzIn_eXQrdUU",
        "colab": {
          "base_uri": "https://localhost:8080/",
          "height": 424
        },
        "outputId": "acc15e57-9333-4408-87f7-2464374a624a"
      },
      "execution_count": 48,
      "outputs": [
        {
          "output_type": "execute_result",
          "data": {
            "text/plain": [
              "    country  No of guests\n",
              "0       PRT         11315\n",
              "1       GBR          5963\n",
              "2       ESP          3589\n",
              "3       IRL          1743\n",
              "4       FRA          1689\n",
              "..      ...           ...\n",
              "116     LKA             1\n",
              "117     SYR             1\n",
              "118     UGA             1\n",
              "119     BIH             1\n",
              "120     STP             1\n",
              "\n",
              "[121 rows x 2 columns]"
            ],
            "text/html": [
              "\n",
              "  <div id=\"df-581a7861-ef67-48e0-a7a7-73ed57ec146e\">\n",
              "    <div class=\"colab-df-container\">\n",
              "      <div>\n",
              "<style scoped>\n",
              "    .dataframe tbody tr th:only-of-type {\n",
              "        vertical-align: middle;\n",
              "    }\n",
              "\n",
              "    .dataframe tbody tr th {\n",
              "        vertical-align: top;\n",
              "    }\n",
              "\n",
              "    .dataframe thead th {\n",
              "        text-align: right;\n",
              "    }\n",
              "</style>\n",
              "<table border=\"1\" class=\"dataframe\">\n",
              "  <thead>\n",
              "    <tr style=\"text-align: right;\">\n",
              "      <th></th>\n",
              "      <th>country</th>\n",
              "      <th>No of guests</th>\n",
              "    </tr>\n",
              "  </thead>\n",
              "  <tbody>\n",
              "    <tr>\n",
              "      <th>0</th>\n",
              "      <td>PRT</td>\n",
              "      <td>11315</td>\n",
              "    </tr>\n",
              "    <tr>\n",
              "      <th>1</th>\n",
              "      <td>GBR</td>\n",
              "      <td>5963</td>\n",
              "    </tr>\n",
              "    <tr>\n",
              "      <th>2</th>\n",
              "      <td>ESP</td>\n",
              "      <td>3589</td>\n",
              "    </tr>\n",
              "    <tr>\n",
              "      <th>3</th>\n",
              "      <td>IRL</td>\n",
              "      <td>1743</td>\n",
              "    </tr>\n",
              "    <tr>\n",
              "      <th>4</th>\n",
              "      <td>FRA</td>\n",
              "      <td>1689</td>\n",
              "    </tr>\n",
              "    <tr>\n",
              "      <th>...</th>\n",
              "      <td>...</td>\n",
              "      <td>...</td>\n",
              "    </tr>\n",
              "    <tr>\n",
              "      <th>116</th>\n",
              "      <td>LKA</td>\n",
              "      <td>1</td>\n",
              "    </tr>\n",
              "    <tr>\n",
              "      <th>117</th>\n",
              "      <td>SYR</td>\n",
              "      <td>1</td>\n",
              "    </tr>\n",
              "    <tr>\n",
              "      <th>118</th>\n",
              "      <td>UGA</td>\n",
              "      <td>1</td>\n",
              "    </tr>\n",
              "    <tr>\n",
              "      <th>119</th>\n",
              "      <td>BIH</td>\n",
              "      <td>1</td>\n",
              "    </tr>\n",
              "    <tr>\n",
              "      <th>120</th>\n",
              "      <td>STP</td>\n",
              "      <td>1</td>\n",
              "    </tr>\n",
              "  </tbody>\n",
              "</table>\n",
              "<p>121 rows × 2 columns</p>\n",
              "</div>\n",
              "      <button class=\"colab-df-convert\" onclick=\"convertToInteractive('df-581a7861-ef67-48e0-a7a7-73ed57ec146e')\"\n",
              "              title=\"Convert this dataframe to an interactive table.\"\n",
              "              style=\"display:none;\">\n",
              "        \n",
              "  <svg xmlns=\"http://www.w3.org/2000/svg\" height=\"24px\"viewBox=\"0 0 24 24\"\n",
              "       width=\"24px\">\n",
              "    <path d=\"M0 0h24v24H0V0z\" fill=\"none\"/>\n",
              "    <path d=\"M18.56 5.44l.94 2.06.94-2.06 2.06-.94-2.06-.94-.94-2.06-.94 2.06-2.06.94zm-11 1L8.5 8.5l.94-2.06 2.06-.94-2.06-.94L8.5 2.5l-.94 2.06-2.06.94zm10 10l.94 2.06.94-2.06 2.06-.94-2.06-.94-.94-2.06-.94 2.06-2.06.94z\"/><path d=\"M17.41 7.96l-1.37-1.37c-.4-.4-.92-.59-1.43-.59-.52 0-1.04.2-1.43.59L10.3 9.45l-7.72 7.72c-.78.78-.78 2.05 0 2.83L4 21.41c.39.39.9.59 1.41.59.51 0 1.02-.2 1.41-.59l7.78-7.78 2.81-2.81c.8-.78.8-2.07 0-2.86zM5.41 20L4 18.59l7.72-7.72 1.47 1.35L5.41 20z\"/>\n",
              "  </svg>\n",
              "      </button>\n",
              "      \n",
              "  <style>\n",
              "    .colab-df-container {\n",
              "      display:flex;\n",
              "      flex-wrap:wrap;\n",
              "      gap: 12px;\n",
              "    }\n",
              "\n",
              "    .colab-df-convert {\n",
              "      background-color: #E8F0FE;\n",
              "      border: none;\n",
              "      border-radius: 50%;\n",
              "      cursor: pointer;\n",
              "      display: none;\n",
              "      fill: #1967D2;\n",
              "      height: 32px;\n",
              "      padding: 0 0 0 0;\n",
              "      width: 32px;\n",
              "    }\n",
              "\n",
              "    .colab-df-convert:hover {\n",
              "      background-color: #E2EBFA;\n",
              "      box-shadow: 0px 1px 2px rgba(60, 64, 67, 0.3), 0px 1px 3px 1px rgba(60, 64, 67, 0.15);\n",
              "      fill: #174EA6;\n",
              "    }\n",
              "\n",
              "    [theme=dark] .colab-df-convert {\n",
              "      background-color: #3B4455;\n",
              "      fill: #D2E3FC;\n",
              "    }\n",
              "\n",
              "    [theme=dark] .colab-df-convert:hover {\n",
              "      background-color: #434B5C;\n",
              "      box-shadow: 0px 1px 3px 1px rgba(0, 0, 0, 0.15);\n",
              "      filter: drop-shadow(0px 1px 2px rgba(0, 0, 0, 0.3));\n",
              "      fill: #FFFFFF;\n",
              "    }\n",
              "  </style>\n",
              "\n",
              "      <script>\n",
              "        const buttonEl =\n",
              "          document.querySelector('#df-581a7861-ef67-48e0-a7a7-73ed57ec146e button.colab-df-convert');\n",
              "        buttonEl.style.display =\n",
              "          google.colab.kernel.accessAllowed ? 'block' : 'none';\n",
              "\n",
              "        async function convertToInteractive(key) {\n",
              "          const element = document.querySelector('#df-581a7861-ef67-48e0-a7a7-73ed57ec146e');\n",
              "          const dataTable =\n",
              "            await google.colab.kernel.invokeFunction('convertToInteractive',\n",
              "                                                     [key], {});\n",
              "          if (!dataTable) return;\n",
              "\n",
              "          const docLinkHtml = 'Like what you see? Visit the ' +\n",
              "            '<a target=\"_blank\" href=https://colab.research.google.com/notebooks/data_table.ipynb>data table notebook</a>'\n",
              "            + ' to learn more about interactive tables.';\n",
              "          element.innerHTML = '';\n",
              "          dataTable['output_type'] = 'display_data';\n",
              "          await google.colab.output.renderOutput(dataTable, element);\n",
              "          const docLink = document.createElement('div');\n",
              "          docLink.innerHTML = docLinkHtml;\n",
              "          element.appendChild(docLink);\n",
              "        }\n",
              "      </script>\n",
              "    </div>\n",
              "  </div>\n",
              "  "
            ]
          },
          "metadata": {},
          "execution_count": 48
        }
      ]
    },
    {
      "cell_type": "code",
      "source": [
        "grouped_by_country = df1.groupby('country')\n",
        "d1 = pd.DataFrame(grouped_by_country.size()).reset_index().rename(columns = {0:'Count'}).sort_values('Count', ascending = False)[:10]\n",
        "sns.barplot(x = d1['country'], y  = d1['Count'])\n",
        "plt.show()"
      ],
      "metadata": {
        "id": "ZUTbSCOOrm3l",
        "colab": {
          "base_uri": "https://localhost:8080/",
          "height": 279
        },
        "outputId": "51efcaf9-9ffd-4c24-c3e6-4d90ba45541a"
      },
      "execution_count": 49,
      "outputs": [
        {
          "output_type": "display_data",
          "data": {
            "text/plain": [
              "<Figure size 432x288 with 1 Axes>"
            ],
            "image/png": "[encoded data removed]"
          },
          "metadata": {
            "needs_background": "light"
          }
        }
      ]
    },
    {
      "cell_type": "markdown",
      "source": [
        "***Most of the guest are from Portugal.***"
      ],
      "metadata": {
        "id": "Wg8dAb0Yrn4G"
      }
    },
    {
      "cell_type": "markdown",
      "source": [
        "# **Q10.which hotel seems to make more revenue?**"
      ],
      "metadata": {
        "id": "7KnPAROesbYb"
      }
    },
    {
      "cell_type": "code",
      "source": [
        "grouped_by_hotel = df1.groupby('hotel')\n",
        "d3 = grouped_by_hotel['adr'].agg(np.mean).reset_index().rename(columns = {'adr':'avg_adr'})   # calculating average adr\n",
        "plt.figure(figsize = (8,5))\n",
        "sns.barplot(x = d3['hotel'], y = d3['avg_adr'] )\n",
        "plt.show()"
      ],
      "metadata": {
        "id": "7y3e376EsjfL",
        "colab": {
          "base_uri": "https://localhost:8080/",
          "height": 334
        },
        "outputId": "a38a2e3f-893d-40eb-bdac-e8d8f5282635"
      },
      "execution_count": 50,
      "outputs": [
        {
          "output_type": "display_data",
          "data": {
            "text/plain": [
              "<Figure size 576x360 with 1 Axes>"
            ],
            "image/png": "[encoded data removed]"
          },
          "metadata": {
            "needs_background": "light"
          }
        }
      ]
    },
    {
      "cell_type": "markdown",
      "source": [
        "***City hotel seems to be making slightly more revenue.***"
      ],
      "metadata": {
        "id": "eKpiqgQlsndT"
      }
    },
    {
      "cell_type": "markdown",
      "source": [
        "# **Q11.Which hotel has higher lead time?**"
      ],
      "metadata": {
        "id": "BId71CG-s_4K"
      }
    },
    {
      "cell_type": "code",
      "source": [
        "grouped_by_hotel = df1.groupby('hotel')\n",
        "d2 = grouped_by_hotel['lead_time'].median().reset_index()\n",
        "plt.figure(figsize = (8,5))\n",
        "sns.barplot(x = d2['hotel'], y = d2['lead_time'] )\n",
        "plt.show()"
      ],
      "metadata": {
        "id": "koRKBj5yuStu",
        "colab": {
          "base_uri": "https://localhost:8080/",
          "height": 334
        },
        "outputId": "6582cc4f-a140-46fc-a306-b8c0a5a24766"
      },
      "execution_count": 51,
      "outputs": [
        {
          "output_type": "display_data",
          "data": {
            "text/plain": [
              "<Figure size 576x360 with 1 Axes>"
            ],
            "image/png": "[encoded data removed]"
          },
          "metadata": {
            "needs_background": "light"
          }
        }
      ]
    },
    {
      "cell_type": "markdown",
      "source": [
        "***City Hotel has higher lead time than Resort Hotel.***"
      ],
      "metadata": {
        "id": "ffAQ70o9uhYs"
      }
    },
    {
      "cell_type": "markdown",
      "source": [
        "# **Q12.Which significant distribution channel has highest cancellation percentage?**"
      ],
      "metadata": {
        "id": "pN5xZSavwIBV"
      }
    },
    {
      "cell_type": "code",
      "source": [
        "d1 = pd.DataFrame((group_by_dc['is_canceled'].sum()/group_by_dc.size())*100).drop(index = 'Undefined').rename(columns = {0: 'Cancel_%'})\n",
        "plt.figure(figsize = (10,5))\n",
        "sns.barplot(x = d1.index, y = d1['Cancel_%'])\n",
        "plt.show()"
      ],
      "metadata": {
        "id": "KpWBpufQwhMS",
        "colab": {
          "base_uri": "https://localhost:8080/",
          "height": 335
        },
        "outputId": "4c047352-e05b-434b-91e2-56e06bfbe6c7"
      },
      "execution_count": 52,
      "outputs": [
        {
          "output_type": "display_data",
          "data": {
            "text/plain": [
              "<Figure size 720x360 with 1 Axes>"
            ],
            "image/png": "[encoded data removed]"
          },
          "metadata": {
            "needs_background": "light"
          }
        }
      ]
    },
    {
      "cell_type": "markdown",
      "source": [
        "***TA/TO channel has highest cancellation percentage.***"
      ],
      "metadata": {
        "id": "LVsQZalBwlVW"
      }
    },
    {
      "cell_type": "markdown",
      "source": [
        "# ***Q13.which channel is mostly used for early booking of hotels?***"
      ],
      "metadata": {
        "id": "EA7BB9k8iwfM"
      }
    },
    {
      "cell_type": "code",
      "source": [
        "group_by_dc = df1.groupby('distribution_channel')\n",
        "d2 = pd.DataFrame(round(group_by_dc['lead_time'].median(),2)).reset_index().rename(columns = {'lead_time': 'median_lead_time'})\n",
        "plt.figure(figsize = (7,5))\n",
        "sns.barplot(x = d2['distribution_channel'], y = d2['median_lead_time'])\n",
        "plt.show()"
      ],
      "metadata": {
        "id": "y9D4RBgFipL9",
        "colab": {
          "base_uri": "https://localhost:8080/",
          "height": 335
        },
        "outputId": "ffb19527-1eed-4785-f158-537d1c3deee6"
      },
      "execution_count": 54,
      "outputs": [
        {
          "output_type": "display_data",
          "data": {
            "text/plain": [
              "<Figure size 504x360 with 1 Axes>"
            ],
            "image/png": "[encoded data removed]"
          },
          "metadata": {
            "needs_background": "light"
          }
        }
      ]
    },
    {
      "cell_type": "markdown",
      "source": [
        "***TA/TO is mostly used for planning hotel visits ahead of time.but sudden visits other medium are most preferred.***"
      ],
      "metadata": {
        "id": "p1x9MWJalB1L"
      }
    },
    {
      "cell_type": "markdown",
      "source": [
        "# **Q14.which channel has longer average waiting time?**"
      ],
      "metadata": {
        "id": "K78Mi9dGmqdI"
      }
    },
    {
      "cell_type": "code",
      "source": [
        "d4 = pd.DataFrame(round((group_by_dc['days_in_waiting_list']).mean(),2)).reset_index().rename(columns = {'days_in_waiting_list': 'avg_waiting_time'})\n",
        "plt.figure(figsize = (7,5))\n",
        "sns.barplot(x = d4['distribution_channel'], y = d4['avg_waiting_time'])\n",
        "plt.show()\n"
      ],
      "metadata": {
        "id": "SN4NGNpCnw2w",
        "colab": {
          "base_uri": "https://localhost:8080/",
          "height": 335
        },
        "outputId": "ea361514-7802-4b05-c68b-fb1bdf7d151d"
      },
      "execution_count": 53,
      "outputs": [
        {
          "output_type": "display_data",
          "data": {
            "text/plain": [
              "<Figure size 504x360 with 1 Axes>"
            ],
            "image/png": "[encoded data removed]"
          },
          "metadata": {
            "needs_background": "light"
          }
        }
      ]
    },
    {
      "cell_type": "markdown",
      "source": [
        "***while booking via TA/TO one may have to wait a little longer to confirm booking of rooms.***"
      ],
      "metadata": {
        "id": "3KyA1iNVojeN"
      }
    },
    {
      "cell_type": "markdown",
      "source": [
        "## ***4. Data Vizualization, Storytelling & Experimenting with charts : Understand the relationships between variables***"
      ],
      "metadata": {
        "id": "GF8Ens_Soomf"
      }
    },
    {
      "cell_type": "markdown",
      "source": [
        "**Correlation Heatmap**"
      ],
      "metadata": {
        "id": "NC_X3p0fY2L0"
      }
    },
    {
      "cell_type": "code",
      "source": [
        "# Correlation Heatmap visualization code"
      ],
      "metadata": {
        "id": "xyC9zolEZNRQ"
      },
      "execution_count": 55,
      "outputs": []
    },
    {
      "cell_type": "code",
      "source": [
        "num_df1 = df1[['lead_time','previous_cancellations','previous_bookings_not_canceled','booking_changes','days_in_waiting_list','adr','required_car_parking_spaces','total_of_special_requests','total_stay','total_people']]\n"
      ],
      "metadata": {
        "id": "sRngu5Yd9lUq"
      },
      "execution_count": 56,
      "outputs": []
    },
    {
      "cell_type": "code",
      "source": [
        "#correlation matrix\n",
        "corrmat = num_df1.corr()\n",
        "f, ax = plt.subplots(figsize=(12, 7))\n",
        "sns.heatmap(corrmat,annot = True,fmt='.2f', annot_kws={'size': 10},  vmax=.8, square=True);"
      ],
      "metadata": {
        "id": "URue-8vuI-Zq",
        "colab": {
          "base_uri": "https://localhost:8080/",
          "height": 586
        },
        "outputId": "60e25773-4373-4f84-b136-4092fbb6359d"
      },
      "execution_count": 57,
      "outputs": [
        {
          "output_type": "display_data",
          "data": {
            "text/plain": [
              "<Figure size 864x504 with 2 Axes>"
            ],
            "image/png": "[encoded data removed]"
          },
          "metadata": {
            "needs_background": "light"
          }
        }
      ]
    },
    {
      "cell_type": "markdown",
      "source": [
        "1) Total stay length and lead time have slight correlation. This may means that for longer hotel stays people generally plan little before the the actual arrival.\n",
        "\n",
        "2) adr is slightly correlated with total_people, which makes sense as more no. of people means more revenue, therefore more adr."
      ],
      "metadata": {
        "id": "UcpCJgoVsxXk"
      }
    },
    {
      "cell_type": "markdown",
      "source": [
        "Lets see does length of stay affects the adr.\n",
        "\n",
        "\n"
      ],
      "metadata": {
        "id": "2ZD8z09otCNp"
      }
    },
    {
      "cell_type": "code",
      "source": [
        "plt.figure(figsize = (12,6))\n",
        "sns.scatterplot(y = 'adr', x = 'total_stay', data = df1)\n",
        "plt.show()"
      ],
      "metadata": {
        "id": "SZmWooRLtFYo",
        "colab": {
          "base_uri": "https://localhost:8080/",
          "height": 389
        },
        "outputId": "a15f40d1-6955-438f-83c5-1d999f6f7120"
      },
      "execution_count": 58,
      "outputs": [
        {
          "output_type": "display_data",
          "data": {
            "text/plain": [
              "<Figure size 864x432 with 1 Axes>"
            ],
            "image/png": "[encoded data removed]"
          },
          "metadata": {
            "needs_background": "light"
          }
        }
      ]
    },
    {
      "cell_type": "markdown",
      "source": [
        "We notice that there is an outlier in adr, so we will remove that for better scatter plot"
      ],
      "metadata": {
        "id": "BWp6geUvXdTp"
      }
    },
    {
      "cell_type": "code",
      "source": [
        "df1.drop(df1[df1['adr'] > 5000].index, inplace = True)"
      ],
      "metadata": {
        "id": "tiONMgrftNwX"
      },
      "execution_count": 59,
      "outputs": []
    },
    {
      "cell_type": "code",
      "source": [
        "plt.figure(figsize = (12,6))\n",
        "sns.scatterplot(y = 'adr', x = 'total_stay', data = df1)\n",
        "plt.show()"
      ],
      "metadata": {
        "id": "Xmm6WygPtSt9",
        "colab": {
          "base_uri": "https://localhost:8080/",
          "height": 389
        },
        "outputId": "531d52d5-1e24-4d78-ef95-b8e792ec78fe"
      },
      "execution_count": 60,
      "outputs": [
        {
          "output_type": "display_data",
          "data": {
            "text/plain": [
              "<Figure size 864x432 with 1 Axes>"
            ],
            "image/png": "[encoded data removed]"
          },
          "metadata": {
            "needs_background": "light"
          }
        }
      ]
    },
    {
      "cell_type": "markdown",
      "source": [
        "From the scatter plot we can see that as length of tottal_stay increases the adr decreases. This means for longer stay, the better deal for customer can be finalised."
      ],
      "metadata": {
        "id": "w5bnMPu8kHCi"
      }
    },
    {
      "cell_type": "markdown",
      "source": [
        " **Pair Plot** "
      ],
      "metadata": {
        "id": "q29F0dvdveiT"
      }
    },
    {
      "cell_type": "code",
      "source": [
        "# Pair Plot visualization \n",
        "import seaborn\n",
        "import matplotlib.pyplot as plt\n",
        " \n",
        "############# Main Section ############\n",
        "# loading dataset using seaborn\n",
        "df = seaborn.load_dataset('tips')  # The code creates a scatter plot of the tips dataset with hue as day.\n",
        "# pairplot with hue day\n",
        "seaborn.pairplot(df, hue ='day', markers=[\"*\",\"o\",\"s\",\"o\"]) # The input code is too short to provide a detailed and accurate answer. To gain deeper insight, try again using a longer piece of code.\n",
        "# to show\n",
        "plt.show()"
      ],
      "metadata": {
        "id": "o58-TEIhveiU",
        "colab": {
          "base_uri": "https://localhost:8080/",
          "height": 550
        },
        "outputId": "afeea6ff-d6cc-4af9-ea14-fa140cfd16a0"
      },
      "execution_count": 61,
      "outputs": [
        {
          "output_type": "display_data",
          "data": {
            "text/plain": [
              "<Figure size 598.875x540 with 12 Axes>"
            ],
            "image/png": "[encoded data removed]"
          },
          "metadata": {
            "needs_background": "light"
          }
        }
      ]
    },
    {
      "cell_type": "markdown",
      "source": [
        "##### 1. Why did you pick the specific chart?"
      ],
      "metadata": {
        "id": "EXh0U9oCveiU"
      }
    },
    {
      "cell_type": "markdown",
      "source": [
        "1.A pairs plot allows us to see both distribution of single variables and relationships between two variables.\n",
        "\n",
        "2.The Seaborn Pairplot allows us to plot pairwise relationships between variables within a dataset.\n",
        "\n",
        "3.pairplot() : To plot multiple pairwise bivariate distributions in a dataset.\n",
        "\n"
      ],
      "metadata": {
        "id": "eMmPjTByveiU"
      }
    },
    {
      "cell_type": "markdown",
      "source": [
        "##### 2. What is/are the insight(s) found from the chart?"
      ],
      "metadata": {
        "id": "22aHeOlLveiV"
      }
    },
    {
      "cell_type": "markdown",
      "source": [
        "1.A pairs plot allows us to see both distribution of single variables \n",
        "relationships between two variables. Pair plots are a great method to identify trends for follow-up analysis and, fortunately, are easily implemented in Python.\n",
        "\n",
        "2.for example.the left-most plot in the second row shows the scatter plot of tip versus total_bill.it shows the relation between two variables in sysmatic way.\n",
        "\n",
        "3.just like that the other variables of graphs shows the relation between the two variables like.\n",
        "\n",
        "4.y-axis(total_bill) and x-axis(total_bill): total_bill relation with total_bill\n",
        "  y-axis(total_bill) and x-axis(tip)  total_bill relation with tip\n",
        "  y-axis(total_bill) and x-axis(size) : total_bill relation with size\n",
        "\n",
        "5.y-axis(tip) and x-axis(total_bill) : tip relation with total_bill\n",
        "  y-axis(tipl) and x-axis(tip) : tip relation with tip\n",
        "  y-axis(tip) and x-axis(size) : tip relation with size\n",
        "\n",
        "6.y-axis(size) and x-axis(total_bill) : size relation with total_bill\n",
        "  y-axis(size) and x-axis(tip) : size relation with tip\n",
        "  y-axis(size) and x-axis(size) : size relation with size\n",
        "\n",
        "\n"
      ],
      "metadata": {
        "id": "uPQ8RGwHveiV"
      }
    },
    {
      "cell_type": "markdown",
      "source": [
        "## **5. Solution to Business Objective**"
      ],
      "metadata": {
        "id": "JcMwzZxoAimU"
      }
    },
    {
      "cell_type": "markdown",
      "source": [
        "#### What do you suggest the client to achieve Business Objective ? \n",
        "Explain Briefly."
      ],
      "metadata": {
        "id": "8G2x9gOozGDZ"
      }
    },
    {
      "cell_type": "markdown",
      "source": [
        "1.our goal for this project is predicting which kind of customers need special request and predicting the possibility of a booking for a hotel by knowing different features. This will help the hotel booking company to make better decisions.\n",
        "\n",
        "2.Set Non-refundable Rates, Collect deposits, and implement more rigid cancellation policies.\n",
        "\n",
        "3.Encourage Direct bookings by offering special discounts.\n",
        "\n",
        "4.Monitor where the cancellations are coming from such as Market Segment, distribution channels etc.\n",
        "\n",
        "5.the latest supporting technologies to ensure hotel rooms and services are priced at the right rate regardless ofperiods of high or low demand.\n",
        "\n",
        "6.hoteliers need to ensure that they have detailed data that is both historical and forward looking. \n",
        "\n",
        "7.Any changes in price should be monitored closely for impact on levels of demand. This information can then be used to control demand accordingly, using daily revenue management and pricing strategies."
      ],
      "metadata": {
        "id": "pASKb0qOza21"
      }
    },
    {
      "cell_type": "markdown",
      "source": [
        "# **Conclusion**"
      ],
      "metadata": {
        "id": "gCX9965dhzqZ"
      }
    },
    {
      "cell_type": "markdown",
      "source": [
        "(1) Agent no. 9 has made most no. of bookings."
      ],
      "metadata": {
        "id": "AyabLhUyoTQu"
      }
    },
    {
      "cell_type": "markdown",
      "source": [
        "(2) BB (bed and breakfast) is the most prefered type of meal in hotel.  "
      ],
      "metadata": {
        "id": "b48oAgC0pMVZ"
      }
    },
    {
      "cell_type": "markdown",
      "source": [
        "(3) TA/TO is the most common channel for booking hotels."
      ],
      "metadata": {
        "id": "LS05tkhUpS5j"
      }
    },
    {
      "cell_type": "markdown",
      "source": [
        "(4) Most common stay length is less than 4 days and generally people prefer City hotel for short stay, but for long stays, Resort Hotel is preferred."
      ],
      "metadata": {
        "id": "XcYZwSSNpel6"
      }
    },
    {
      "cell_type": "markdown",
      "source": [
        " (5) percentage of booking in City Hotel is 60% and in Resort Hotel is 40%."
      ],
      "metadata": {
        "id": "zEtJTX_dpqgR"
      }
    },
    {
      "cell_type": "markdown",
      "source": [
        " (6) City hotel has longer waiing time than Resort Hotel."
      ],
      "metadata": {
        "id": "hwq3XYVqpuE7"
      }
    },
    {
      "cell_type": "markdown",
      "source": [
        "(7) City Hotel has 30% booking cancalation rate. "
      ],
      "metadata": {
        "id": "TjxSbSuepySe"
      }
    },
    {
      "cell_type": "markdown",
      "source": [
        "(8)Most demanded room type is A, but better adr rooms are of type H, G and C also."
      ],
      "metadata": {
        "id": "KVRrxvAkp19U"
      }
    },
    {
      "cell_type": "markdown",
      "source": [
        " (9)Most of the guest are from Portugal."
      ],
      "metadata": {
        "id": "ErR55r4Pp51P"
      }
    },
    {
      "cell_type": "markdown",
      "source": [
        "(10)City hotel seems to be making slightly more revenue."
      ],
      "metadata": {
        "id": "VcYV-Mmsp9WT"
      }
    },
    {
      "cell_type": "markdown",
      "source": [
        "(11).City Hotel has higher lead time than Resort Hotel."
      ],
      "metadata": {
        "id": "n7aoj8ZSqJYI"
      }
    },
    {
      "cell_type": "markdown",
      "source": [
        "(12)TA/TO channel has highest cancellation percentage."
      ],
      "metadata": {
        "id": "1fMElTAWqKQL"
      }
    },
    {
      "cell_type": "markdown",
      "source": [
        "(13).TA/TO is mostly used for planning hotel visits ahead of time.but sudden visits other medium are most preferred."
      ],
      "metadata": {
        "id": "NyxL7CNmqOGg"
      }
    },
    {
      "cell_type": "markdown",
      "source": [
        "(14).while booking via TA/TO one may have to wait a little longer to confirm booking of rooms."
      ],
      "metadata": {
        "id": "QbC48G9FqUWM"
      }
    },
    {
      "cell_type": "markdown",
      "source": [
        "(15). (1)Total stay length and lead time have slight correlation. This may means that for longer hotel stays people generally plan little before the the actual arrival (2).adr is slightly correlated with total_people, which makes sense as more no. of people means more revenue, therefore more adr."
      ],
      "metadata": {
        "id": "i3KoLFWDqYg1"
      }
    },
    {
      "cell_type": "markdown",
      "source": [
        "(16) (1).A pairs plot allows us to see both distribution of single variables relationships between two variables. Pair plots are a great method to identify trends for follow-up analysis and, fortunately, are easily implemented in Python.\n",
        "\n",
        "2.for example.the left-most plot in the second row shows the scatter plot of tip versus total_bill.it shows the relation between two variables in sysmatic way.\n",
        "\n",
        "3.just like that the other variables of graphs shows the relation between the two variables like.\n",
        "\n",
        "4.y-axis(total_bill) and x-axis(total_bill): total_bill relation with total_bill y-axis(total_bill) and x-axis(tip) total_bill relation with tip y-axis(total_bill) and x-axis(size) : total_bill relation with size\n",
        "\n",
        "5.y-axis(tip) and x-axis(total_bill) : tip relation with total_bill y-axis(tipl) and x-axis(tip) : tip relation with tip y-axis(tip) and x-axis(size) : tip relation with size\n",
        "\n",
        "6.y-axis(size) and x-axis(total_bill) : size relation with total_bill y-axis(size) and x-axis(tip) : size relation with tip y-axis(size) and x-axis(size) : size relation with size"
      ],
      "metadata": {
        "id": "6m9NRiaQqcXx"
      }
    }
  ]
}